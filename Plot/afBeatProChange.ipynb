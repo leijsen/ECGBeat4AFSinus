{
 "cells": [
  {
   "cell_type": "code",
   "execution_count": 1,
   "metadata": {},
   "outputs": [
    {
     "name": "stdout",
     "output_type": "stream",
     "text": [
      "['data_12_1', 'data_12_2', 'data_12_3', 'data_12_4', 'data_12_5', 'data_12_6', 'data_12_7', 'data_12_8', 'data_16_1', 'data_16_2', 'data_16_3', 'data_16_4', 'data_22_1', 'data_22_10', 'data_22_11', 'data_22_12', 'data_22_13', 'data_22_14', 'data_22_15', 'data_22_16', 'data_22_2', 'data_22_3', 'data_22_4', 'data_22_5', 'data_22_6', 'data_22_7', 'data_22_8', 'data_22_9', 'data_26_1', 'data_26_10', 'data_26_11', 'data_26_12', 'data_26_13', 'data_26_2', 'data_26_3', 'data_26_4', 'data_26_5', 'data_26_6', 'data_26_7', 'data_26_8', 'data_26_9', 'data_36_1', 'data_36_2', 'data_36_3', 'data_36_4', 'data_36_5', 'data_36_6', 'data_36_7', 'data_36_8', 'data_40_1', 'data_40_2', 'data_40_3', 'data_40_4', 'data_40_5', 'data_41_1', 'data_41_10', 'data_41_11', 'data_41_12', 'data_41_13', 'data_41_14', 'data_41_2', 'data_41_3', 'data_41_4', 'data_41_5', 'data_41_6', 'data_41_7', 'data_41_8', 'data_41_9', 'data_45_1', 'data_45_10', 'data_45_2', 'data_45_3', 'data_45_4', 'data_45_5', 'data_45_6', 'data_45_7', 'data_45_8', 'data_45_9', 'data_47_1', 'data_47_10', 'data_47_11', 'data_47_12', 'data_47_13', 'data_47_14', 'data_47_15', 'data_47_16', 'data_47_17', 'data_47_18', 'data_47_2', 'data_47_3', 'data_47_4', 'data_47_5', 'data_47_6', 'data_47_7', 'data_47_8', 'data_47_9', 'data_53_1', 'data_53_10', 'data_53_11', 'data_53_2', 'data_53_3', 'data_53_4', 'data_53_5', 'data_53_6', 'data_53_7', 'data_53_8', 'data_53_9', 'data_55_1', 'data_55_10', 'data_55_2', 'data_55_3', 'data_55_4', 'data_55_5', 'data_55_6', 'data_55_7', 'data_55_8', 'data_55_9', 'data_5_1', 'data_5_10', 'data_5_2', 'data_5_3', 'data_5_4', 'data_5_5', 'data_5_6', 'data_5_7', 'data_5_8', 'data_5_9', 'data_62_1', 'data_62_10', 'data_62_2', 'data_62_3', 'data_62_4', 'data_62_5', 'data_62_6', 'data_62_7', 'data_62_8', 'data_62_9', 'data_69_1', 'data_69_2', 'data_69_3', 'data_69_4', 'data_70_1', 'data_70_10', 'data_70_11', 'data_70_12', 'data_70_13', 'data_70_14', 'data_70_15', 'data_70_16', 'data_70_17', 'data_70_18', 'data_70_19', 'data_70_2', 'data_70_20', 'data_70_21', 'data_70_22', 'data_70_23', 'data_70_24', 'data_70_25', 'data_70_3', 'data_70_4', 'data_70_5', 'data_70_6', 'data_70_7', 'data_70_8', 'data_70_9', 'data_71_1', 'data_71_10', 'data_71_11', 'data_71_12', 'data_71_13', 'data_71_14', 'data_71_15', 'data_71_16', 'data_71_17', 'data_71_18', 'data_71_2', 'data_71_3', 'data_71_4', 'data_71_5', 'data_71_6', 'data_71_7', 'data_71_8', 'data_71_9', 'data_78_1', 'data_78_10', 'data_78_11', 'data_78_12', 'data_78_13', 'data_78_14', 'data_78_15', 'data_78_2', 'data_78_3', 'data_78_4', 'data_78_5', 'data_78_6', 'data_78_7', 'data_78_8', 'data_78_9', 'data_79_1', 'data_79_10', 'data_79_11', 'data_79_12', 'data_79_13', 'data_79_14', 'data_79_15', 'data_79_2', 'data_79_3', 'data_79_4', 'data_79_5', 'data_79_6', 'data_79_7', 'data_79_8', 'data_79_9', 'data_85_1', 'data_85_2', 'data_85_3', 'data_85_4', 'data_85_5', 'data_85_6', 'data_85_7', 'data_89_1', 'data_89_10', 'data_89_11', 'data_89_12', 'data_89_13', 'data_89_14', 'data_89_2', 'data_89_3', 'data_89_4', 'data_89_5', 'data_89_6', 'data_89_7', 'data_89_8', 'data_89_9', 'data_8_1', 'data_8_10', 'data_8_11', 'data_8_12', 'data_8_13', 'data_8_14', 'data_8_15', 'data_8_16', 'data_8_17', 'data_8_18', 'data_8_19', 'data_8_2', 'data_8_20', 'data_8_21', 'data_8_22', 'data_8_23', 'data_8_24', 'data_8_3', 'data_8_4', 'data_8_5', 'data_8_6', 'data_8_7', 'data_8_8', 'data_8_9', 'data_100_1', 'data_100_10', 'data_100_11', 'data_100_12', 'data_100_13', 'data_100_2', 'data_100_3', 'data_100_4', 'data_100_5', 'data_100_6', 'data_100_7', 'data_100_8', 'data_100_9', 'data_102_1', 'data_102_2', 'data_102_3', 'data_102_4', 'data_102_5', 'data_102_6', 'data_102_7', 'data_102_8', 'data_104_1', 'data_104_10', 'data_104_11', 'data_104_12', 'data_104_13', 'data_104_14', 'data_104_15', 'data_104_16', 'data_104_17', 'data_104_18', 'data_104_19', 'data_104_2', 'data_104_20', 'data_104_21', 'data_104_22', 'data_104_23', 'data_104_24', 'data_104_25', 'data_104_26', 'data_104_27', 'data_104_28', 'data_104_3', 'data_104_4', 'data_104_5', 'data_104_6', 'data_104_7', 'data_104_8', 'data_104_9', 'data_11_1', 'data_11_2', 'data_11_3', 'data_11_4', 'data_11_5', 'data_17_1', 'data_17_10', 'data_17_11', 'data_17_12', 'data_17_13', 'data_17_14', 'data_17_15', 'data_17_16', 'data_17_17', 'data_17_18', 'data_17_19', 'data_17_2', 'data_17_3', 'data_17_4', 'data_17_5', 'data_17_6', 'data_17_7', 'data_17_8', 'data_17_9', 'data_18_1', 'data_18_10', 'data_18_2', 'data_18_3', 'data_18_4', 'data_18_5', 'data_18_6', 'data_18_7', 'data_18_8', 'data_18_9', 'data_29_1', 'data_29_10', 'data_29_2', 'data_29_3', 'data_29_4', 'data_29_5', 'data_29_6', 'data_29_7', 'data_29_8', 'data_29_9', 'data_30_1', 'data_30_10', 'data_30_2', 'data_30_3', 'data_30_4', 'data_30_5', 'data_30_6', 'data_30_7', 'data_30_8', 'data_30_9', 'data_31_1', 'data_31_10', 'data_31_11', 'data_31_12', 'data_31_13', 'data_31_14', 'data_31_15', 'data_31_16', 'data_31_17', 'data_31_18', 'data_31_19', 'data_31_2', 'data_31_20', 'data_31_21', 'data_31_3', 'data_31_4', 'data_31_5', 'data_31_6', 'data_31_7', 'data_31_8', 'data_31_9', 'data_37_1', 'data_37_2', 'data_37_3', 'data_37_4', 'data_37_5', 'data_37_6', 'data_37_7', 'data_48_1', 'data_48_10', 'data_48_11', 'data_48_12', 'data_48_13', 'data_48_14', 'data_48_15', 'data_48_16', 'data_48_17', 'data_48_18', 'data_48_19', 'data_48_2', 'data_48_20', 'data_48_21', 'data_48_22', 'data_48_23', 'data_48_24', 'data_48_3', 'data_48_4', 'data_48_5', 'data_48_6', 'data_48_7', 'data_48_8', 'data_48_9', 'data_4_1', 'data_4_10', 'data_4_2', 'data_4_3', 'data_4_4', 'data_4_5', 'data_4_6', 'data_4_7', 'data_4_8', 'data_4_9', 'data_75_1', 'data_75_2', 'data_75_3', 'data_75_4', 'data_75_5', 'data_77_1', 'data_77_2', 'data_77_3', 'data_77_4', 'data_77_5', 'data_77_6', 'data_77_7', 'data_77_8', 'data_83_1', 'data_83_2', 'data_83_3', 'data_83_4', 'data_83_5', 'data_83_6', 'data_84_1', 'data_84_2', 'data_84_3', 'data_84_4', 'data_84_5', 'data_84_6', 'data_84_7', 'data_86_1', 'data_86_10', 'data_86_11', 'data_86_12', 'data_86_13', 'data_86_14', 'data_86_15', 'data_86_16', 'data_86_17', 'data_86_18', 'data_86_19', 'data_86_2', 'data_86_20', 'data_86_21', 'data_86_22', 'data_86_23', 'data_86_24', 'data_86_3', 'data_86_4', 'data_86_5', 'data_86_6', 'data_86_7', 'data_86_8', 'data_86_9', 'data_88_1', 'data_88_10', 'data_88_11', 'data_88_2', 'data_88_3', 'data_88_4', 'data_88_5', 'data_88_6', 'data_88_7', 'data_88_8', 'data_88_9', 'data_93_1', 'data_93_10', 'data_93_11', 'data_93_12', 'data_93_13', 'data_93_14', 'data_93_15', 'data_93_2', 'data_93_3', 'data_93_4', 'data_93_5', 'data_93_6', 'data_93_7', 'data_93_8', 'data_93_9', 'data_95_1', 'data_95_10', 'data_95_11', 'data_95_12', 'data_95_13', 'data_95_14', 'data_95_15', 'data_95_16', 'data_95_17', 'data_95_18', 'data_95_19', 'data_95_2', 'data_95_20', 'data_95_21', 'data_95_22', 'data_95_23', 'data_95_3', 'data_95_4', 'data_95_5', 'data_95_6', 'data_95_7', 'data_95_8', 'data_95_9', 'data_97_1', 'data_97_2', 'data_97_3', 'data_97_4', 'data_97_5', 'data_97_6', 'data_97_7', 'data_97_8', 'data_97_9', 'data_14_1', 'data_14_10', 'data_14_2', 'data_14_3', 'data_14_4', 'data_14_5', 'data_14_6', 'data_14_7', 'data_14_8', 'data_14_9', 'data_19_1', 'data_19_2', 'data_19_3', 'data_19_4', 'data_19_5', 'data_19_6', 'data_19_7', 'data_19_8', 'data_19_9', 'data_1_1', 'data_1_2', 'data_1_3', 'data_1_4', 'data_1_5', 'data_1_6', 'data_1_7', 'data_1_8', 'data_1_9', 'data_21_1', 'data_21_10', 'data_21_11', 'data_21_12', 'data_21_13', 'data_21_14', 'data_21_15', 'data_21_16', 'data_21_17', 'data_21_18', 'data_21_19', 'data_21_2', 'data_21_20', 'data_21_21', 'data_21_22', 'data_21_23', 'data_21_24', 'data_21_3', 'data_21_4', 'data_21_5', 'data_21_6', 'data_21_7', 'data_21_8', 'data_21_9', 'data_25_1', 'data_25_10', 'data_25_11', 'data_25_12', 'data_25_13', 'data_25_14', 'data_25_15', 'data_25_16', 'data_25_17', 'data_25_18', 'data_25_19', 'data_25_2', 'data_25_20', 'data_25_21', 'data_25_22', 'data_25_23', 'data_25_24', 'data_25_3', 'data_25_4', 'data_25_5', 'data_25_6', 'data_25_7', 'data_25_8', 'data_25_9', 'data_32_1', 'data_32_10', 'data_32_11', 'data_32_12', 'data_32_13', 'data_32_14', 'data_32_15', 'data_32_16', 'data_32_17', 'data_32_18', 'data_32_19', 'data_32_2', 'data_32_20', 'data_32_21', 'data_32_22', 'data_32_23', 'data_32_24', 'data_32_25', 'data_32_26', 'data_32_27', 'data_32_28', 'data_32_29', 'data_32_3', 'data_32_4', 'data_32_5', 'data_32_6', 'data_32_7', 'data_32_8', 'data_32_9', 'data_33_1', 'data_33_10', 'data_33_11', 'data_33_12', 'data_33_13', 'data_33_14', 'data_33_15', 'data_33_16', 'data_33_17', 'data_33_18', 'data_33_19', 'data_33_2', 'data_33_20', 'data_33_21', 'data_33_22', 'data_33_23', 'data_33_24', 'data_33_3', 'data_33_4', 'data_33_5', 'data_33_6', 'data_33_7', 'data_33_8', 'data_33_9', 'data_42_1', 'data_42_10', 'data_42_11', 'data_42_12', 'data_42_13', 'data_42_2', 'data_42_3', 'data_42_4', 'data_42_5', 'data_42_6', 'data_42_7', 'data_42_8', 'data_42_9', 'data_43_1', 'data_43_10', 'data_43_11', 'data_43_12', 'data_43_13', 'data_43_14', 'data_43_15', 'data_43_16', 'data_43_2', 'data_43_3', 'data_43_4', 'data_43_5', 'data_43_6', 'data_43_7', 'data_43_8', 'data_43_9', 'data_44_1', 'data_44_10', 'data_44_11', 'data_44_12', 'data_44_13', 'data_44_14', 'data_44_15', 'data_44_16', 'data_44_17', 'data_44_18', 'data_44_19', 'data_44_2', 'data_44_3', 'data_44_4', 'data_44_5', 'data_44_6', 'data_44_7', 'data_44_8', 'data_44_9', 'data_46_1', 'data_46_10', 'data_46_11', 'data_46_12', 'data_46_13', 'data_46_14', 'data_46_2', 'data_46_3', 'data_46_4', 'data_46_5', 'data_46_6', 'data_46_7', 'data_46_8', 'data_46_9', 'data_49_1', 'data_49_10', 'data_49_11', 'data_49_2', 'data_49_3', 'data_49_4', 'data_49_5', 'data_49_6', 'data_49_7', 'data_49_8', 'data_49_9', 'data_63_1', 'data_63_10', 'data_63_2', 'data_63_3', 'data_63_4', 'data_63_5', 'data_63_6', 'data_63_7', 'data_63_8', 'data_63_9', 'data_66_1', 'data_66_10', 'data_66_11', 'data_66_12', 'data_66_13', 'data_66_14', 'data_66_15', 'data_66_16', 'data_66_17', 'data_66_18', 'data_66_2', 'data_66_3', 'data_66_4', 'data_66_5', 'data_66_6', 'data_66_7', 'data_66_8', 'data_66_9', 'data_72_2', 'data_72_3', 'data_72_4', 'data_72_5', 'data_72_6', 'data_72_7', 'data_72_8', 'data_72_9', 'data_73_1', 'data_73_10', 'data_73_11', 'data_73_12', 'data_73_13', 'data_73_14', 'data_73_15', 'data_73_16', 'data_73_17', 'data_73_18', 'data_73_19', 'data_73_2', 'data_73_3', 'data_73_4', 'data_73_5', 'data_73_6', 'data_73_7', 'data_73_8', 'data_73_9', 'data_74_1', 'data_74_10', 'data_74_2', 'data_74_3', 'data_74_4', 'data_74_5', 'data_74_6', 'data_74_7', 'data_74_8', 'data_74_9', 'data_76_1', 'data_76_10', 'data_76_11', 'data_76_12', 'data_76_13', 'data_76_14', 'data_76_15', 'data_76_16', 'data_76_2', 'data_76_3', 'data_76_4', 'data_76_5', 'data_76_6', 'data_76_7', 'data_76_8', 'data_76_9', 'data_7_1', 'data_7_2', 'data_7_3', 'data_7_4', 'data_7_5', 'data_7_6', 'data_7_7', 'data_7_8', 'data_87_1', 'data_87_10', 'data_87_11', 'data_87_12', 'data_87_13', 'data_87_14', 'data_87_15', 'data_87_16', 'data_87_17', 'data_87_18', 'data_87_19', 'data_87_2', 'data_87_20', 'data_87_21', 'data_87_22', 'data_87_23', 'data_87_24', 'data_87_3', 'data_87_4', 'data_87_5', 'data_87_6', 'data_87_7', 'data_87_8', 'data_87_9', 'data_94_1', 'data_94_10', 'data_94_2', 'data_94_3', 'data_94_4', 'data_94_5', 'data_94_6', 'data_94_7', 'data_94_8', 'data_94_9', 'data_0_1', 'data_0_10', 'data_0_11', 'data_0_12', 'data_0_13', 'data_0_14', 'data_0_15', 'data_0_2', 'data_0_3', 'data_0_4', 'data_0_5', 'data_0_6', 'data_0_7', 'data_0_8', 'data_0_9', 'data_101_1', 'data_101_10', 'data_101_2', 'data_101_3', 'data_101_4', 'data_101_5', 'data_101_6', 'data_101_7', 'data_101_8', 'data_101_9', 'data_10_1', 'data_10_10', 'data_10_11', 'data_10_12', 'data_10_13', 'data_10_14', 'data_10_2', 'data_10_3', 'data_10_4', 'data_10_5', 'data_10_6', 'data_10_7', 'data_10_8', 'data_10_9', 'data_15_1', 'data_15_10', 'data_15_11', 'data_15_12', 'data_15_13', 'data_15_14', 'data_15_15', 'data_15_16', 'data_15_2', 'data_15_3', 'data_15_4', 'data_15_5', 'data_15_6', 'data_15_7', 'data_15_8', 'data_15_9', 'data_20_1', 'data_20_2', 'data_20_3', 'data_24_1', 'data_24_10', 'data_24_11', 'data_24_12', 'data_24_13', 'data_24_14', 'data_24_15', 'data_24_16', 'data_24_17', 'data_24_18', 'data_24_19', 'data_24_2', 'data_24_20', 'data_24_21', 'data_24_22', 'data_24_23', 'data_24_24', 'data_24_25', 'data_24_26', 'data_24_3', 'data_24_4', 'data_24_5', 'data_24_6', 'data_24_7', 'data_24_8', 'data_24_9', 'data_27_1', 'data_27_10', 'data_27_2', 'data_27_3', 'data_27_4', 'data_27_5', 'data_27_6', 'data_27_7', 'data_27_8', 'data_27_9', 'data_35_1', 'data_35_10', 'data_35_2', 'data_35_3', 'data_35_4', 'data_35_5', 'data_35_6', 'data_35_7', 'data_35_8', 'data_35_9', 'data_52_1', 'data_52_10', 'data_52_2', 'data_52_3', 'data_52_4', 'data_52_5', 'data_52_6', 'data_52_7', 'data_52_8', 'data_52_9', 'data_59_1', 'data_59_10', 'data_59_11', 'data_59_12', 'data_59_13', 'data_59_14', 'data_59_15', 'data_59_16', 'data_59_17', 'data_59_18', 'data_59_19', 'data_59_2', 'data_59_20', 'data_59_21', 'data_59_22', 'data_59_23', 'data_59_24', 'data_59_3', 'data_59_4', 'data_59_5', 'data_59_6', 'data_59_7', 'data_59_8', 'data_59_9', 'data_61_1', 'data_61_2', 'data_61_3', 'data_61_4', 'data_61_5', 'data_61_6', 'data_61_7', 'data_61_8', 'data_65_1', 'data_65_10', 'data_65_11', 'data_65_12', 'data_65_2', 'data_65_3', 'data_65_4', 'data_65_5', 'data_65_6', 'data_65_7', 'data_65_8', 'data_65_9', 'data_67_1', 'data_67_10', 'data_67_11', 'data_67_12', 'data_67_13', 'data_67_14', 'data_67_15', 'data_67_16', 'data_67_17', 'data_67_18', 'data_67_19', 'data_67_2', 'data_67_20', 'data_67_21', 'data_67_22', 'data_67_23', 'data_67_24', 'data_67_25', 'data_67_26', 'data_67_27', 'data_67_28', 'data_67_3', 'data_67_4', 'data_67_5', 'data_67_6', 'data_67_7', 'data_67_8', 'data_67_9', 'data_6_1', 'data_6_10', 'data_6_2', 'data_6_3', 'data_6_4', 'data_6_5', 'data_6_6', 'data_6_7', 'data_6_8', 'data_6_9', 'data_81_1', 'data_81_2', 'data_81_3', 'data_81_4', 'data_81_5', 'data_81_6', 'data_81_7', 'data_81_8', 'data_82_1', 'data_82_2', 'data_82_3', 'data_82_4', 'data_82_5', 'data_82_6', 'data_82_7', 'data_91_1', 'data_91_10', 'data_91_11', 'data_91_12', 'data_91_13', 'data_91_14', 'data_91_15', 'data_91_16', 'data_91_17', 'data_91_18', 'data_91_19', 'data_91_2', 'data_91_20', 'data_91_21', 'data_91_22', 'data_91_23', 'data_91_24', 'data_91_3', 'data_91_4', 'data_91_5', 'data_91_6', 'data_91_7', 'data_91_8', 'data_91_9', 'data_92_1', 'data_92_10', 'data_92_11', 'data_92_12', 'data_92_13', 'data_92_14', 'data_92_15', 'data_92_16', 'data_92_17', 'data_92_18', 'data_92_19', 'data_92_2', 'data_92_20', 'data_92_21', 'data_92_22', 'data_92_3', 'data_92_4', 'data_92_5', 'data_92_6', 'data_92_7', 'data_92_8', 'data_92_9', 'data_96_1', 'data_96_10', 'data_96_11', 'data_96_12', 'data_96_13', 'data_96_14', 'data_96_15', 'data_96_16', 'data_96_17', 'data_96_18', 'data_96_19', 'data_96_2', 'data_96_20', 'data_96_21', 'data_96_22', 'data_96_23', 'data_96_3', 'data_96_4', 'data_96_5', 'data_96_6', 'data_96_7', 'data_96_8', 'data_96_9', 'data_99_1', 'data_99_10', 'data_99_11', 'data_99_12', 'data_99_13', 'data_99_14', 'data_99_15', 'data_99_16', 'data_99_17', 'data_99_18', 'data_99_19', 'data_99_2', 'data_99_20', 'data_99_21', 'data_99_22', 'data_99_3', 'data_99_4', 'data_99_5', 'data_99_6', 'data_99_7', 'data_99_8', 'data_99_9', 'data_9_1', 'data_9_10', 'data_9_11', 'data_9_12', 'data_9_2', 'data_9_3', 'data_9_4', 'data_9_5', 'data_9_6', 'data_9_7', 'data_9_8', 'data_9_9', 'data_103_1', 'data_103_2', 'data_103_3', 'data_13_1', 'data_13_10', 'data_13_11', 'data_13_12', 'data_13_13', 'data_13_14', 'data_13_15', 'data_13_16', 'data_13_17', 'data_13_18', 'data_13_19', 'data_13_2', 'data_13_20', 'data_13_21', 'data_13_22', 'data_13_23', 'data_13_24', 'data_13_3', 'data_13_4', 'data_13_5', 'data_13_6', 'data_13_7', 'data_13_8', 'data_13_9', 'data_23_1', 'data_23_2', 'data_23_3', 'data_28_1', 'data_28_10', 'data_28_2', 'data_28_3', 'data_28_4', 'data_28_5', 'data_28_6', 'data_28_7', 'data_28_8', 'data_28_9', 'data_2_1', 'data_2_10', 'data_2_11', 'data_2_12', 'data_2_13', 'data_2_14', 'data_2_15', 'data_2_16', 'data_2_17', 'data_2_2', 'data_2_3', 'data_2_4', 'data_2_5', 'data_2_6', 'data_2_7', 'data_2_8', 'data_2_9', 'data_34_1', 'data_34_10', 'data_34_11', 'data_34_12', 'data_34_13', 'data_34_14', 'data_34_15', 'data_34_16', 'data_34_17', 'data_34_18', 'data_34_19', 'data_34_2', 'data_34_20', 'data_34_21', 'data_34_22', 'data_34_23', 'data_34_24', 'data_34_25', 'data_34_26', 'data_34_3', 'data_34_4', 'data_34_5', 'data_34_6', 'data_34_7', 'data_34_8', 'data_34_9', 'data_38_1', 'data_38_2', 'data_38_3', 'data_38_4', 'data_38_5', 'data_39_1', 'data_39_10', 'data_39_11', 'data_39_12', 'data_39_13', 'data_39_14', 'data_39_15', 'data_39_16', 'data_39_17', 'data_39_18', 'data_39_19', 'data_39_2', 'data_39_20', 'data_39_21', 'data_39_22', 'data_39_3', 'data_39_4', 'data_39_5', 'data_39_6', 'data_39_7', 'data_39_8', 'data_39_9', 'data_3_1', 'data_3_2', 'data_50_1', 'data_50_10', 'data_50_11', 'data_50_12', 'data_50_2', 'data_50_3', 'data_50_4', 'data_50_5', 'data_50_6', 'data_50_7', 'data_50_8', 'data_50_9', 'data_51_1', 'data_51_10', 'data_51_11', 'data_51_12', 'data_51_13', 'data_51_14', 'data_51_15', 'data_51_16', 'data_51_2', 'data_51_3', 'data_51_4', 'data_51_5', 'data_51_6', 'data_51_7', 'data_51_8', 'data_51_9', 'data_54_1', 'data_54_2', 'data_54_3', 'data_54_4', 'data_54_5', 'data_54_6', 'data_54_7', 'data_56_1', 'data_56_10', 'data_56_11', 'data_56_12', 'data_56_13', 'data_56_14', 'data_56_15', 'data_56_16', 'data_56_17', 'data_56_18', 'data_56_19', 'data_56_2', 'data_56_20', 'data_56_3', 'data_56_4', 'data_56_5', 'data_56_6', 'data_56_7', 'data_56_8', 'data_56_9', 'data_57_1', 'data_57_2', 'data_57_3', 'data_57_4', 'data_57_5', 'data_58_1', 'data_58_10', 'data_58_11', 'data_58_2', 'data_58_3', 'data_58_4', 'data_58_5', 'data_58_6', 'data_58_7', 'data_58_8', 'data_58_9', 'data_60_1', 'data_60_10', 'data_60_11', 'data_60_12', 'data_60_2', 'data_60_3', 'data_60_4', 'data_60_5', 'data_60_6', 'data_60_7', 'data_60_8', 'data_60_9', 'data_64_1', 'data_64_10', 'data_64_2', 'data_64_3', 'data_64_4', 'data_64_5', 'data_64_6', 'data_64_7', 'data_64_8', 'data_64_9', 'data_68_1', 'data_68_10', 'data_68_11', 'data_68_12', 'data_68_13', 'data_68_14', 'data_68_15', 'data_68_16', 'data_68_17', 'data_68_18', 'data_68_19', 'data_68_2', 'data_68_20', 'data_68_21', 'data_68_22', 'data_68_23', 'data_68_24', 'data_68_25', 'data_68_3', 'data_68_4', 'data_68_5', 'data_68_6', 'data_68_7', 'data_68_8', 'data_68_9', 'data_80_1', 'data_80_10', 'data_80_11', 'data_80_12', 'data_80_13', 'data_80_14', 'data_80_15', 'data_80_2', 'data_80_3', 'data_80_4', 'data_80_5', 'data_80_6', 'data_80_7', 'data_80_8', 'data_80_9', 'data_90_1', 'data_90_2', 'data_90_3', 'data_90_4', 'data_90_5', 'data_90_6', 'data_90_7', 'data_98_1', 'data_98_10', 'data_98_11', 'data_98_12', 'data_98_2', 'data_98_3', 'data_98_4', 'data_98_5', 'data_98_6', 'data_98_7', 'data_98_8', 'data_98_9']\n",
      "1435\n",
      "{0: 0, 100: 0, 101: 1, 102: 1, 103: 0, 104: 1, 10: 1, 11: 1, 12: 0, 13: 1, 14: 0, 15: 0, 16: 0, 17: 0, 18: 0, 19: 0, 1: 0, 20: 0, 21: 1, 22: 1, 23: 0, 24: 1, 25: 1, 26: 0, 27: 0, 28: 0, 29: 0, 2: 0, 30: 0, 31: 1, 32: 1, 33: 1, 34: 0, 35: 0, 36: 1, 37: 0, 38: 1, 39: 1, 3: 1, 40: 1, 41: 0, 42: 0, 43: 0, 44: 0, 45: 0, 46: 0, 47: 0, 48: 1, 49: 0, 4: 0, 50: 0, 51: 0, 52: 0, 53: 0, 54: 1, 55: 0, 56: 1, 57: 1, 58: 1, 59: 1, 5: 0, 60: 1, 61: 1, 62: 0, 63: 1, 64: 1, 65: 1, 66: 1, 67: 1, 68: 1, 69: 0, 6: 0, 70: 1, 71: 1, 72: 1, 73: 1, 74: 0, 75: 1, 76: 0, 77: 1, 78: 0, 79: 1, 7: 0, 80: 0, 81: 1, 82: 1, 83: 0, 84: 1, 85: 1, 86: 1, 87: 0, 88: 1, 89: 0, 8: 1, 90: 1, 91: 1, 92: 1, 93: 0, 94: 0, 95: 1, 96: 1, 97: 1, 98: 1, 99: 1, 9: 0}\n"
     ]
    }
   ],
   "source": [
    "import wfdb\n",
    "import os\n",
    "import numpy as np\n",
    "import pandas as pd\n",
    "import matplotlib.pyplot as plt\n",
    "import h5py\n",
    "import seaborn as sns\n",
    "import csv\n",
    "\n",
    "from matplotlib import cm\n",
    "from mne.filter import filter_data\n",
    "from sklearn.manifold import TSNE\n",
    "from sklearn.cluster import DBSCAN, KMeans\n",
    "from mne.filter import filter_data, notch_filter\n",
    "from sklearn.calibration import calibration_curve\n",
    "from sklearn.decomposition import PCA\n",
    "from sklearn.metrics import roc_auc_score, roc_curve, auc, recall_score, precision_score, f1_score, confusion_matrix, accuracy_score\n",
    "\n",
    "import matplotlib\n",
    "matplotlib.rcParams.update({'font.size':30\n",
    "                            , 'font.family': 'Times New Roman'\n",
    "                            , 'axes.labelsize': 30\n",
    "                            , 'axes.titlesize': 30\n",
    "                            , 'xtick.labelsize': 30\n",
    "                            , 'ytick.labelsize': 30\n",
    "                            , 'legend.fontsize': 30\n",
    "                            , 'figure.titlesize': 30\n",
    "                            , 'figure.dpi': 300})\n",
    "\n",
    "all_data_path = r\"PAF\\coding\\lj\\all_data\"\n",
    "small_data_path = r\"PAF\\coding\\lj\\data\"\n",
    "\n",
    "# file_path = \"Net1d_newGroup\\PAF_net1d_Group2\\list_data.h5\"\n",
    "# file_path = \"Net1d_Split\\PAF_net1d_Split1_5\\list_data.h5\"\n",
    "firstNum = 67\n",
    "file_path = f\"Net1d_Split1_denoise\\PAF_net1d_SplitDenoise_FirstNum-{firstNum}/list_data{firstNum}.h5\"\n",
    "file_paths = [\"Net1d_Split1_denoise\\PAF_net1d_SplitDenoise_FirstNum-16\\list_data16.h5\", \"Net1d_Split1_denoise\\PAF_net1d_SplitDenoise_FirstNum-17\\list_data17.h5\", \"Net1d_Split1_denoise\\PAF_net1d_SplitDenoise_FirstNum-43\\list_data43.h5\", \"Net1d_Split1_denoise\\PAF_net1d_SplitDenoise_FirstNum-67\\list_data67.h5\", \"Net1d_Split1_denoise\\PAF_net1d_SplitDenoise_FirstNum-103\\list_data103.h5\"]\n",
    "\n",
    "hf_keys = []\n",
    "data = {}\n",
    "for file_path in file_paths:\n",
    "    with h5py.File(file_path, 'r') as hf:\n",
    "        for key in hf.keys():\n",
    "            hf_keys.append(key)\n",
    "            data[key] = hf[key][:]\n",
    "print(hf_keys)\n",
    "print(len(hf_keys))\n",
    "\n",
    "\n",
    "people_info = pd.read_csv(r\"PAF\\coding\\data_distil\\people_info.csv\")\n",
    "key_value = people_info.set_index('Key').to_dict()['Value']\n",
    "print(key_value)"
   ]
  },
  {
   "cell_type": "markdown",
   "metadata": {},
   "source": [
    "# 1000个beat做一个桶，观察Af期间和其左右的概率值变化"
   ]
  },
  {
   "cell_type": "code",
   "execution_count": 2,
   "metadata": {},
   "outputs": [],
   "source": [
    "# def afDurationCreate(aux, afDuration):\n",
    "#     seg = []\n",
    "#     for i in range(len(aux)):\n",
    "#         if aux[i] == '(AFIB' or aux[i] == 'AFL':\n",
    "#             seg.append(i)\n",
    "#         elif aux[i] == '(N':\n",
    "#             if len(seg) != 0:\n",
    "#                 seg.append(i)\n",
    "#             else:\n",
    "#                 seg.append(i)\n",
    "#                 seg.append(i)\n",
    "#             # seg.append(i)\n",
    "#         if i == len(aux) - 1 and len(seg) == 1:\n",
    "#             seg.append(i)\n",
    "#         if len(seg) == 2:\n",
    "#             afDuration.append(seg)\n",
    "#             seg = []\n",
    "#     if len(afDuration) == 0:\n",
    "#         afDuration.append([0, 0])\n",
    "# def checkInAf(x, afDuration):\n",
    "#     # print(afDuration)\n",
    "#     try:\n",
    "#         for temp in afDuration:\n",
    "#             s, e = temp[0], temp[1]\n",
    "#             if x >= s and x < e:\n",
    "#                 return True\n",
    "#         return False\n",
    "#     except:\n",
    "#         print(afDuration)\n",
    "#         print(x)\n",
    "\n",
    "# targets = ['data_40_1'] # 阵发性房颤\n",
    "# # len(hf_keys): 1435\n",
    "# for target in targets:\n",
    "#     file_name = target\n",
    "#     record = wfdb.rdrecord(os.path.join(all_data_path, file_name))\n",
    "#     sig, fields = wfdb.rdsamp(os.path.join(all_data_path, file_name))\n",
    "#     label = key_value[int(target.split('_')[1])]\n",
    "#     if label == 0:\n",
    "#         continue\n",
    "\n",
    "#     annotation = wfdb.rdann(os.path.join(all_data_path, file_name), 'atr')\n",
    "#     R_location = annotation.sample\n",
    "#     R_symbol = annotation.symbol\n",
    "#     aux = annotation.aux_note\n",
    "#     p_signal = record.p_signal[:, 0]\n",
    "#     p_signal = p_signal.flatten()\n",
    "#     # print(\"R_symbol: \", R_symbol)\n",
    "\n",
    "#     # 滤波操作\n",
    "#     sfreq = 200\n",
    "#     low_freq = 0.5\n",
    "#     high_freq = 50.0\n",
    "#     p_signal = filter_data(p_signal, sfreq, low_freq, high_freq, method='iir', verbose=False)\n",
    "\n",
    "#     # 获得概率值\n",
    "#     seg_data = data[target]\n",
    "#     # print(seg_data.shape)\n",
    "#     seg_pro = []\n",
    "#     for i in range(len(seg_data)):\n",
    "#         seg_pro.append(round(seg_data[i][-2], 2))\n",
    "    \n",
    "#     # AF_location = []\n",
    "#     # for i in range(len(R_symbol))[10:-5]:\n",
    "#     #     if R_symbol[i] != 'N':\n",
    "#     #         AF_location.append(i+1)\n",
    "    \n",
    "#     afDuration = []\n",
    "#     afDurationCreate(aux, afDuration)\n",
    "\n",
    "#     # 概率变化情况，因只统计了N，所以要将我们的start和end转换为N的start和end\n",
    "#     all_seg_pro = [0 for i in range(10)]\n",
    "#     index = 0\n",
    "#     for i in range(len(R_symbol))[10:-5]:\n",
    "#         if R_symbol[i] == 'N':\n",
    "#             all_seg_pro.append(seg_pro[index])\n",
    "#             index += 1\n",
    "#         else:\n",
    "#             all_seg_pro.append(1)\n",
    "#     # print(\"index: \", index)\n",
    "\n",
    "    \n",
    "#     # start最好从 10 开始\n",
    "#     start = 10\n",
    "#     while start < len(R_location) - 5 and start + 20 < len(R_location) - 5:\n",
    "#         end = start + 20\n",
    "#         # print(\"seg_pro: \", seg_pro[start:end])  # 每个beat预测为1的概率\n",
    "#         # print(\"AF_location: \", AF_location) # 标签为非\"N\"的位置\n",
    "#         # print(\"R_location: \", R_location[start:end])  # R峰位置，因为从10开始开始收集数据，所以start=10\n",
    "#         # print(\"R_symbol: \", R_symbol[start:end])  # R峰标签\n",
    "#         # print(\"all_seg_pro: \", all_seg_pro[start:end])\n",
    "#         # print()\n",
    "\n",
    "#         start_p_signal = R_location[start]\n",
    "#         end_p_signal = R_location[end]\n",
    "#         plt.figure(figsize=(20, 10))\n",
    "#         plt.subplot(211)\n",
    "#         # plt.xlim(start_p_signal-100, end_p_signal+100)\n",
    "#         plt.plot(range(start_p_signal, end_p_signal), p_signal[start_p_signal:end_p_signal])\n",
    "\n",
    "#         # 标记R_symbol\n",
    "#         index_list = [i for i in range(start, end+1)]\n",
    "#         for i in index_list:\n",
    "#             symbol = R_symbol[i]\n",
    "#             proba = all_seg_pro[i]\n",
    "#             mid_idx = R_location[i]\n",
    "#             aux_note = aux[i]\n",
    "#             plt.text(mid_idx, p_signal[mid_idx], symbol, fontsize=20, color='r', ha='center', va='center')\n",
    "#             proba_loc = 0\n",
    "#             if p_signal[mid_idx] > 0 :\n",
    "#                 proba_loc = p_signal[mid_idx] - 0.1\n",
    "#             else:\n",
    "#                 proba_loc = p_signal[mid_idx] + 0.1\n",
    "#             plt.text(mid_idx, proba_loc, proba, fontsize=20, color='r', ha='center', va='center')\n",
    "\n",
    "#             # 标记是否属于AF片段\n",
    "#             aux_loc = 0\n",
    "#             if p_signal[mid_idx] > 0 :\n",
    "#                 aux_loc = p_signal[mid_idx] - 0.2\n",
    "#             else:\n",
    "#                 aux_loc = p_signal[mid_idx] + 0.2\n",
    "#             if checkInAf(i, afDuration):\n",
    "#                 plt.text(mid_idx, aux_loc, \"AF\", fontsize=20, color='red', ha='center', va='center')\n",
    "#             else:\n",
    "#                 plt.text(mid_idx, aux_loc, 'NN', fontsize=20, color='black', ha='center', va='center')\n",
    "#         # plt.scatter(R_location[start:end], p_signal[R_location[start:end]], c='r')\n",
    "#         # plt.title(f\"{target}---{start}_{end}\", fontsize=15)\n",
    "        \n",
    "#         plt.subplot(212)\n",
    "#         plt.plot(range(start, end), all_seg_pro[start:end], c='red')\n",
    "\n",
    "#         # Normalize the values\n",
    "#         norm = plt.Normalize(0, 1)\n",
    "#         norm_values = norm(all_seg_pro[start:end])\n",
    "#         # Choose a colormap\n",
    "#         map_vir = cm.get_cmap(name='Blues')\n",
    "#         # Assign colors based on values\n",
    "#         colors = map_vir(norm_values)\n",
    "#         # Find indices where all_seg_pro is equal to 1\n",
    "#         indices_to_change = np.where(np.array(all_seg_pro[start:end]) == 1)[0]\n",
    "#         # Change the color of bars with all_seg_pro == 1 to red\n",
    "#         for index in indices_to_change:\n",
    "#             colors[index] = [1, 0, 0, 1]  # RGBA format for red\n",
    "#         # Create the bar chart\n",
    "#         plt.bar(range(start, end), all_seg_pro[start:end], color=colors, label='Bar Chart')\n",
    "#         # Add colorbar\n",
    "#         sm = cm.ScalarMappable(cmap=map_vir, norm=norm)\n",
    "#         sm.set_array([])\n",
    "#         # plt.colorbar(sm)\n",
    "#         plt.ylabel('Probability', fontsize=15)\n",
    "#         plt.ylim(0, 1)\n",
    "\n",
    "#         plt.tight_layout()\n",
    "#         if not os.path.exists(\"DenoiseResultAf\"):\n",
    "#             os.makedirs(\"DenoiseResultAf\")\n",
    "#         plt.savefig(f\"DenoiseResultAf/{target}---{start}_{end}.png\")\n",
    "#         plt.close()\n",
    "#         start += 20"
   ]
  },
  {
   "cell_type": "code",
   "execution_count": 4,
   "metadata": {},
   "outputs": [],
   "source": [
    "# def afDurationCreate(aux, afDuration):\n",
    "#     seg = []\n",
    "#     for i in range(len(aux)):\n",
    "#         if aux[i] == '(AFIB' or aux[i] == 'AFL':\n",
    "#             seg.append(i)\n",
    "#         elif aux[i] == '(N':\n",
    "#             if len(seg) != 0:\n",
    "#                 seg.append(i)\n",
    "#             else:\n",
    "#                 seg.append(i)\n",
    "#                 seg.append(i)\n",
    "#             # seg.append(i)\n",
    "#         if i == len(aux) - 1 and len(seg) == 1:\n",
    "#             seg.append(i)\n",
    "#         if len(seg) == 2:\n",
    "#             afDuration.append(seg)\n",
    "#             seg = []\n",
    "#     if len(afDuration) == 0:\n",
    "#         afDuration.append([0, 0])\n",
    "# def checkInAf(x, afDuration):\n",
    "#     # print(afDuration)\n",
    "#     try:\n",
    "#         for temp in afDuration:\n",
    "#             s, e = temp[0], temp[1]\n",
    "#             if x >= s and x < e:\n",
    "#                 return True\n",
    "#         return False\n",
    "#     except:\n",
    "#         print(afDuration)\n",
    "#         print(x)\n",
    "\n",
    "# # targets = ['data_31_14'] # 阵发性房颤:40_1, 31_1, 31_2, 31_6, 31_7, 31_10\\11\\12\\13\\14, 39也是\n",
    "# # len(hf_keys): 1435\n",
    "# targets = [f\"data_39_{i}\" for i in range(1, 23)]\n",
    "# for target in targets:\n",
    "#     file_name = target\n",
    "#     record = wfdb.rdrecord(os.path.join(all_data_path, file_name))\n",
    "#     sig, fields = wfdb.rdsamp(os.path.join(all_data_path, file_name))\n",
    "#     label = key_value[int(target.split('_')[1])]\n",
    "#     if label == 0:\n",
    "#         continue\n",
    "\n",
    "#     annotation = wfdb.rdann(os.path.join(all_data_path, file_name), 'atr')\n",
    "#     R_location = annotation.sample\n",
    "#     R_symbol = annotation.symbol\n",
    "#     aux = annotation.aux_note\n",
    "#     p_signal = record.p_signal[:, 0]\n",
    "#     p_signal = p_signal.flatten()\n",
    "#     # print(\"R_symbol: \", R_symbol)\n",
    "\n",
    "#     # 滤波操作\n",
    "#     sfreq = 200\n",
    "#     low_freq = 0.5\n",
    "#     high_freq = 50.0\n",
    "#     p_signal = filter_data(p_signal, sfreq, low_freq, high_freq, method='iir', verbose=False)\n",
    "\n",
    "#     # 获得概率值\n",
    "#     seg_data = data[target]\n",
    "#     # print(seg_data.shape)\n",
    "#     seg_pro = []\n",
    "#     for i in range(len(seg_data)):\n",
    "#         seg_pro.append(round(seg_data[i][-2], 2))\n",
    "    \n",
    "#     # AF_location = []\n",
    "#     # for i in range(len(R_symbol))[10:-5]:\n",
    "#     #     if R_symbol[i] != 'N':\n",
    "#     #         AF_location.append(i+1)\n",
    "    \n",
    "#     afDuration = []\n",
    "#     afDurationCreate(aux, afDuration)\n",
    "\n",
    "#     # 概率变化情况，因只统计了N，所以要将我们的start和end转换为N的start和end\n",
    "#     all_seg_pro = [0 for i in range(10)]\n",
    "#     index = 0\n",
    "#     for i in range(len(R_symbol))[10:-5]:\n",
    "#         if R_symbol[i] == 'N':\n",
    "#             all_seg_pro.append(seg_pro[index])\n",
    "#             index += 1\n",
    "#         else:\n",
    "#             all_seg_pro.append(1)\n",
    "#     # print(\"index: \", index)\n",
    "    \n",
    "#     #  splitNum个beat分桶\n",
    "#     splitNum = len(R_symbol) // 20\n",
    "#     areasplitNum = [[] for i in range(len(R_symbol) // splitNum + 1)]\n",
    "#     index = 0\n",
    "#     for i in range(len(R_symbol))[10:-5]:\n",
    "#         if R_symbol[i] == 'N':\n",
    "#             areasplitNum[i // splitNum].append(seg_pro[index])\n",
    "#             index += 1\n",
    "    \n",
    "#     avgsplitNum = []\n",
    "#     for i in range(len(areasplitNum)):\n",
    "#         avgsplitNum.append(np.mean(areasplitNum[i]))\n",
    "#     print(\"len(avgsplitNum): \", len(avgsplitNum))\n",
    "#     print(\"avgsplitNum: \", avgsplitNum)\n",
    "\n",
    "#     try:\n",
    "#         afStart = aux.index('(AFIB') // splitNum\n",
    "#         afEnd = aux.index('(N') // splitNum\n",
    "#         print(\"afStart: \", afStart)\n",
    "#         print(\"afEnd: \", afEnd)\n",
    "#     except:\n",
    "#         pass\n",
    "    \n",
    "#     # plot画出柱状图\n",
    "#     plt.figure(figsize=(20, 10))\n",
    "#     # Normalize the values  \n",
    "#     norm = plt.Normalize(0, 1)\n",
    "#     norm_values = norm(avgsplitNum)\n",
    "#     # Choose a colormap\n",
    "#     map_vir = cm.get_cmap(name='Reds')\n",
    "#     # Assign colors based on values\n",
    "#     colors = map_vir(norm_values)\n",
    "#     # Create the bar chart\n",
    "#     plt.bar(range(len(avgsplitNum)), avgsplitNum, color=colors)\n",
    "#     # Add colorbar\n",
    "#     sm = cm.ScalarMappable(cmap=map_vir, norm=norm)\n",
    "#     sm.set_array([])\n",
    "#     # plt.colorbar(sm)\n",
    "#     plt.ylabel('Probability', fontsize=15)\n",
    "#     plt.tight_layout()\n",
    "#     if not os.path.exists(\"DenoiseResult/afBeatProChange\"):\n",
    "#         os.makedirs(\"DenoiseResult/afBeatProChange\")\n",
    "#     plt.savefig(f\"DenoiseResult/afBeatProChange/afBeatProChange_{target}.png\")\n",
    "#     plt.close()"
   ]
  },
  {
   "cell_type": "code",
   "execution_count": 49,
   "metadata": {},
   "outputs": [
    {
     "name": "stdout",
     "output_type": "stream",
     "text": [
      "afDuration:  [[37, 78], [299, 307]]\n"
     ]
    },
    {
     "data": {
      "image/png": "[encoded data removed]",
      "text/plain": [
       "<Figure size 12000x3000 with 1 Axes>"
      ]
     },
     "metadata": {},
     "output_type": "display_data"
    }
   ],
   "source": [
    "def afDurationCreate(aux, afDuration):\n",
    "    seg = []\n",
    "    for i in range(len(aux)):\n",
    "        if aux[i] == '(AFIB' or aux[i] == 'AFL':\n",
    "            if len(seg) == 0:\n",
    "                seg.append(i)\n",
    "            else:\n",
    "                continue\n",
    "        elif aux[i] == '(N':\n",
    "            if len(seg) != 0:\n",
    "                seg.append(i)\n",
    "            else:\n",
    "                seg.append(i)\n",
    "                seg.append(i)\n",
    "            # seg.append(i)\n",
    "        if i == len(aux) - 1 and len(seg) == 1:\n",
    "            seg.append(i)\n",
    "        if len(seg) == 2:\n",
    "            afDuration.append(seg)\n",
    "            seg = []\n",
    "    if len(afDuration) == 0:\n",
    "        afDuration.append([0, 0])\n",
    "def checkInAf(x, afDuration):\n",
    "    # print(afDuration)\n",
    "    try:\n",
    "        for temp in afDuration:\n",
    "            s, e = temp[0], temp[1]\n",
    "            if x >= s and x < e:\n",
    "                return True\n",
    "        return False\n",
    "    except:\n",
    "        print(afDuration)\n",
    "        print(x)\n",
    "\n",
    "# targets = ['data_40_1'] # 阵发性房颤:40_1, 31_1, 31_2, 31_6, 31_7, 31_10\\11\\12\\13\\14, 39也是\n",
    "# targets = [f\"data_31_{i}\" for i in [1, 2, 6, 7, 10, 11, 12, 13, 14]]\n",
    "# testSet = [4, 11, 17, 18, 29, 30, 31, 37, 48, 75, 77, 83, 84, 86, 88, 93, 95, 97, 100, 102, 104]\n",
    "testSet1 = [16, 62, 12, 22, 71, 85, 53, 69, 26, 70, 5, 40, 41, 55, 47, 36, 78, 89, 45, 8, 79]\n",
    "testSet2 = [17, 31, 100, 93, 102, 95, 84, 86, 18, 11, 48, 97, 88, 83, 104, 30, 29, 75, 4, 77, 37]\n",
    "testSet3 = [43, 1, 49, 72, 25, 73, 44, 76, 7, 66, 32, 46, 42, 21, 14, 63, 94, 87, 33, 19, 74]\n",
    "testSet4 = [67, 15, 61, 96, 24, 9, 59, 91, 6, 0, 65, 81, 10, 20, 82, 99, 92, 35, 101, 27, 52]\n",
    "testSet5 = [103, 50, 64, 28, 68, 80, 90, 51, 98, 39, 3, 56, 58, 60, 54, 34, 38, 23, 13, 2, 57]\n",
    "# len(hf_keys): 1435\n",
    "# targets = [f\"data_39_{i}\" for i in range(1, 23)]\n",
    "# targets = ['data_88_4']\n",
    "# targets = ['data_25_19']\n",
    "targets = ['data_96_1']\n",
    "for target in targets:\n",
    "    # if int(target.split('_')[1]) not in [96]:\n",
    "    #     continue\n",
    "    file_name = target\n",
    "    record = wfdb.rdrecord(os.path.join(all_data_path, file_name))\n",
    "    sig, fields = wfdb.rdsamp(os.path.join(all_data_path, file_name))\n",
    "    label = key_value[int(target.split('_')[1])]\n",
    "    if label == 0:\n",
    "        continue\n",
    "\n",
    "    annotation = wfdb.rdann(os.path.join(all_data_path, file_name), 'atr')\n",
    "    R_location = annotation.sample\n",
    "    R_symbol = annotation.symbol\n",
    "    aux = annotation.aux_note\n",
    "    p_signal = record.p_signal[:, 0]\n",
    "    p_signal = p_signal.flatten()\n",
    "    # print(\"R_symbol: \", R_symbol)\n",
    "\n",
    "    # 滤波操作\n",
    "    sfreq = 200\n",
    "    low_freq = 0.5\n",
    "    high_freq = 50.0\n",
    "    p_signal = filter_data(p_signal, sfreq, low_freq, high_freq, method='iir', verbose=False)\n",
    "\n",
    "    # 获得概率值\n",
    "    seg_data = data[target]\n",
    "    # print(seg_data.shape)\n",
    "    seg_pro = []\n",
    "    for i in range(len(seg_data)):\n",
    "        seg_pro.append(round(seg_data[i][-2], 2))\n",
    "    \n",
    "    # AF_location = []\n",
    "    # for i in range(len(R_symbol))[10:-5]:\n",
    "    #     if R_symbol[i] != 'N':\n",
    "    #         AF_location.append(i+1)\n",
    "    \n",
    "    afDuration = []\n",
    "    afDurationCreate(aux, afDuration)\n",
    "\n",
    "    # 概率变化情况，因只统计了N，所以要将我们的start和end转换为N的start和end\n",
    "    all_seg_pro = [0 for i in range(10)]\n",
    "    index = 0\n",
    "    for i in range(len(R_symbol))[10:-5]:\n",
    "        if R_symbol[i] == 'N':\n",
    "            all_seg_pro.append(seg_pro[index])\n",
    "            index += 1\n",
    "        else:\n",
    "            all_seg_pro.append(1)\n",
    "    # print(\"index: \", index)\n",
    "    \n",
    "    #  splitNum个beat分桶\n",
    "    # tonNum = 20\n",
    "    # splitNum = len(R_symbol) // tonNum\n",
    "    splitNum = 20\n",
    "    if splitNum == 0:\n",
    "        splitNum = 1\n",
    "    areasplitNum = [[] for i in range(len(R_symbol) // splitNum + 1)]\n",
    "    index = 0\n",
    "    for i in range(len(R_symbol))[10:-5]:\n",
    "        if R_symbol[i] == 'N':\n",
    "            areasplitNum[i // splitNum].append(seg_pro[index])\n",
    "            index += 1\n",
    "    \n",
    "    avgsplitNum = []\n",
    "    for i in range(len(areasplitNum)):\n",
    "        avgsplitNum.append(np.mean(areasplitNum[i]))\n",
    "    # print(\"len(avgsplitNum): \", len(avgsplitNum))\n",
    "    # print(\"avgsplitNum: \", avgsplitNum)\n",
    "\n",
    "    indices_to_change = []\n",
    "    try:\n",
    "        for temp in afDuration:\n",
    "            afStart, afEnd = temp[0], temp[1]\n",
    "            afStart = afStart // splitNum\n",
    "            afEnd = afEnd // splitNum\n",
    "            if afStart == afEnd and label == 1 and afStart != 0:\n",
    "                afEnd += 1\n",
    "            indices_to_change.extend(range(afStart, afEnd))\n",
    "        # print(\"len(R_symbol): \", len(R_symbol))\n",
    "        print(\"afDuration: \", afDuration)\n",
    "    except:\n",
    "        pass\n",
    "    \n",
    "    # plot画出柱状图\n",
    "    plt.figure(figsize=(40, 10))\n",
    "    # Normalize the values  \n",
    "    norm = plt.Normalize(0, 1)\n",
    "    norm_values = norm(avgsplitNum)\n",
    "    # Choose a colormap\n",
    "    map_vir = cm.get_cmap(name='Blues')\n",
    "    # Assign colors based on values\n",
    "    colors = map_vir(norm_values)\n",
    "    # Find indices where all_seg_pro is equal to 1\n",
    "    # indices_to_change = np.where(np.array(all_seg_pro[start:end]) == 1)[0]\n",
    "    # Change the color of bars with all_seg_pro == 1 to red\n",
    "    for index in indices_to_change:\n",
    "        colors[index] = [0.7, 0, 0, 1]  # RGBA format for red\n",
    "    # Create the bar chart\n",
    "    plt.bar(range(len(avgsplitNum)), avgsplitNum, color=colors)\n",
    "    plt.ylim(0, 1)\n",
    "    # Add colorbar\n",
    "    sm = cm.ScalarMappable(cmap=map_vir, norm=norm)\n",
    "    sm.set_array([])\n",
    "    # plt.colorbar(sm)\n",
    "    plt.ylabel('Probability')\n",
    "    # plt.tight_layout()\n",
    "    # if not os.path.exists(\"DenoiseResult/afBeatProChange\"):\n",
    "    #     os.makedirs(\"DenoiseResult/afBeatProChange\")\n",
    "    # plt.savefig(f\"DenoiseResult/afBeatProChange/afBeatProChange_{target}.png\")\n",
    "    # plt.close()\n"
   ]
  },
  {
   "cell_type": "markdown",
   "metadata": {},
   "source": [
    "# ECG绘制"
   ]
  },
  {
   "cell_type": "code",
   "execution_count": 47,
   "metadata": {},
   "outputs": [
    {
     "name": "stdout",
     "output_type": "stream",
     "text": [
      "data_96_1 afDuration: [[37, 78], [299, 307]]\n",
      "data_96_1 len(Ecg_to_change): 2\n"
     ]
    }
   ],
   "source": [
    "from matplotlib import cm\n",
    "from matplotlib.collections import LineCollection\n",
    "\n",
    "\n",
    "def afDurationCreate(aux, afDuration):\n",
    "    seg = []\n",
    "    for i in range(len(aux)):\n",
    "        if aux[i] == '(AFIB' or aux[i] == 'AFL':\n",
    "            if len(seg) == 0:\n",
    "                seg.append(i)\n",
    "            else:\n",
    "                continue\n",
    "        elif aux[i] == '(N':\n",
    "            if len(seg) != 0:\n",
    "                seg.append(i)\n",
    "            else:\n",
    "                seg.append(i)\n",
    "                seg.append(i)\n",
    "            # seg.append(i)\n",
    "        if i == len(aux) - 1 and len(seg) == 1:\n",
    "            seg.append(i)\n",
    "        if len(seg) == 2:\n",
    "            afDuration.append(seg)\n",
    "            seg = []\n",
    "    if len(afDuration) == 0:\n",
    "        afDuration.append([0, 0])\n",
    "def checkInAf(x, afDuration):\n",
    "    # print(afDuration)\n",
    "    try:\n",
    "        for temp in afDuration:\n",
    "            s, e = temp[0], temp[1]\n",
    "            if x >= s and x < e:\n",
    "                return True\n",
    "        return False\n",
    "    except:\n",
    "        print(afDuration)\n",
    "        print(x)\n",
    "\n",
    "# targets = ['data_40_1'] # 阵发性房颤:40_1, 31_1, 31_2, 31_6, 31_7, 31_10\\11\\12\\13\\14, 39也是\n",
    "# targets = [f\"data_31_{i}\" for i in [1, 2, 6, 7, 10, 11, 12, 13, 14]]\n",
    "# testSet = [4, 11, 17, 18, 29, 30, 31, 37, 48, 75, 77, 83, 84, 86, 88, 93, 95, 97, 100, 102, 104]\n",
    "testSet1 = [16, 62, 12, 22, 71, 85, 53, 69, 26, 70, 5, 40, 41, 55, 47, 36, 78, 89, 45, 8, 79]\n",
    "testSet2 = [17, 31, 100, 93, 102, 95, 84, 86, 18, 11, 48, 97, 88, 83, 104, 30, 29, 75, 4, 77, 37]\n",
    "testSet3 = [43, 1, 49, 72, 25, 73, 44, 76, 7, 66, 32, 46, 42, 21, 14, 63, 94, 87, 33, 19, 74]\n",
    "testSet4 = [67, 15, 61, 96, 24, 9, 59, 91, 6, 0, 65, 81, 10, 20, 82, 99, 92, 35, 101, 27, 52]\n",
    "testSet5 = [103, 50, 64, 28, 68, 80, 90, 51, 98, 39, 3, 56, 58, 60, 54, 34, 38, 23, 13, 2, 57]\n",
    "# len(hf_keys): 1435\n",
    "# targets = [f\"data_39_{i}\" for i in range(1, 23)]\n",
    "# targets = ['data_88_4']\n",
    "targets = ['data_96_1']\n",
    "# targets = ['data_25_19']\n",
    "for target in targets:\n",
    "    # if int(target.split('_')[1]) not in [96]:\n",
    "    #     continue\n",
    "    file_name = target\n",
    "    record = wfdb.rdrecord(os.path.join(all_data_path, file_name))\n",
    "    sig, fields = wfdb.rdsamp(os.path.join(all_data_path, file_name))\n",
    "    label = key_value[int(target.split('_')[1])]\n",
    "    if label == 0:\n",
    "        continue\n",
    "\n",
    "    annotation = wfdb.rdann(os.path.join(all_data_path, file_name), 'atr')\n",
    "    R_location = annotation.sample\n",
    "    R_symbol = annotation.symbol\n",
    "    aux = annotation.aux_note\n",
    "    p_signal = record.p_signal[:, 0]\n",
    "    p_signal = p_signal.flatten()\n",
    "    # print(\"R_symbol: \", R_symbol)\n",
    "\n",
    "    # 滤波操作\n",
    "    sfreq = 200\n",
    "    low_freq = 0.5\n",
    "    high_freq = 50.0\n",
    "    p_signal = filter_data(p_signal, sfreq, low_freq, high_freq, method='iir', verbose=False)\n",
    "\n",
    "    # 获得概率值\n",
    "    seg_data = data[target]\n",
    "    # print(seg_data.shape)\n",
    "    seg_pro = []\n",
    "    for i in range(len(seg_data)):\n",
    "        seg_pro.append(round(seg_data[i][-2], 2))\n",
    "    \n",
    "    AF_location = []\n",
    "    # for i in range(len(R_symbol))[10:-5]:\n",
    "    #     if R_symbol[i] != 'N':\n",
    "    #         AF_location.append(i+1)\n",
    "    \n",
    "    afDuration = []\n",
    "    afDurationCreate(aux, afDuration)\n",
    "\n",
    "    # 概率变化情况，因只统计了N，所以要将我们的start和end转换为N的start和end\n",
    "    all_seg_pro = [0 for i in range(10)]\n",
    "    index = 0\n",
    "    for i in range(len(R_symbol))[10:-5]:\n",
    "        if R_symbol[i] == 'N':\n",
    "            all_seg_pro.append(seg_pro[index])\n",
    "            index += 1\n",
    "        else:\n",
    "            all_seg_pro.append(1)\n",
    "    # print(\"index: \", index)\n",
    "    \n",
    "    #  splitNum个beat分桶\n",
    "    # tonNum = 20\n",
    "    # splitNum = len(R_symbol) // tonNum\n",
    "    splitNum = 20\n",
    "    if splitNum == 0:\n",
    "        splitNum = 1\n",
    "    areasplitNum = [[] for i in range(len(R_symbol) // splitNum + 1)]\n",
    "    index = 0\n",
    "    for i in range(len(R_symbol))[10:-5]:\n",
    "        if R_symbol[i] == 'N':\n",
    "            areasplitNum[i // splitNum].append(seg_pro[index])\n",
    "            index += 1\n",
    "    \n",
    "    avgsplitNum = []\n",
    "    for i in range(len(areasplitNum)):\n",
    "        avgsplitNum.append(np.mean(areasplitNum[i]))\n",
    "    # print(\"len(avgsplitNum): \", len(avgsplitNum))\n",
    "    # print(\"avgsplitNum: \", avgsplitNum)\n",
    "\n",
    "    indices_to_change = []\n",
    "    Ecg_to_change = []\n",
    "    try:\n",
    "        for temp in afDuration:\n",
    "            afStart, afEnd = temp[0], temp[1]\n",
    "            afStart = afStart // splitNum\n",
    "            afEnd = afEnd // splitNum\n",
    "            if afStart == afEnd and label == 1 and afStart != 0:\n",
    "                afEnd += 1\n",
    "            indices_to_change.extend(range(afStart, afEnd))\n",
    "            # print(range(temp[0], temp[1]))\n",
    "            Ecg_to_change.append(range(R_location[temp[0]], R_location[temp[1]]))\n",
    "        # print(\"len(R_symbol): \", len(R_symbol))\n",
    "        print(f\"{target} afDuration: {afDuration}\")\n",
    "        print(f\"{target} len(Ecg_to_change): {len(Ecg_to_change)}\")\n",
    "    except:\n",
    "        pass\n",
    "    \n",
    "\n",
    "    # 创建画布和坐标轴\n",
    "    fig, ax = plt.subplots(figsize=(40, 10))\n",
    "    \n",
    "    # 画出原始线条\n",
    "    ax.plot(p_signal, 'b', linewidth=2)\n",
    "\n",
    "    for i in range(len(Ecg_to_change)):\n",
    "        ax.plot(Ecg_to_change[i], p_signal[Ecg_to_change[i]], 'r', linewidth=2)\n",
    "\n",
    "    plt.tight_layout()\n",
    "    if not os.path.exists(\"DenoiseResult/ECGProChange\"):\n",
    "        os.makedirs(\"DenoiseResult/ECGProChange\")\n",
    "    plt.savefig(f\"DenoiseResult/ECGProChange/Ecg_{target}.png\")\n",
    "    plt.close()"
   ]
  },
  {
   "cell_type": "markdown",
   "metadata": {},
   "source": [
    "# 合并曲线图和柱状图"
   ]
  },
  {
   "cell_type": "code",
   "execution_count": 7,
   "metadata": {},
   "outputs": [
    {
     "name": "stdout",
     "output_type": "stream",
     "text": [
      "data_101_1 afDuration: [[233, 635]]\n",
      "data_101_1 len(Ecg_to_change): 1\n",
      "data_101_10 afDuration: [[0, 0]]\n",
      "data_101_10 len(Ecg_to_change): 1\n",
      "data_101_2 afDuration: [[0, 0]]\n",
      "data_101_2 len(Ecg_to_change): 1\n",
      "data_101_3 afDuration: [[0, 433]]\n",
      "data_101_3 len(Ecg_to_change): 1\n",
      "data_101_4 afDuration: [[4, 11], [42, 105], [119, 131], [146, 172], [216, 342]]\n",
      "data_101_4 len(Ecg_to_change): 5\n"
     ]
    },
    {
     "name": "stderr",
     "output_type": "stream",
     "text": [
      "d:\\Anaconda\\envs\\shap\\lib\\site-packages\\numpy\\core\\fromnumeric.py:3441: RuntimeWarning: Mean of empty slice.\n",
      "  out=out, **kwargs)\n",
      "d:\\Anaconda\\envs\\shap\\lib\\site-packages\\numpy\\core\\_methods.py:189: RuntimeWarning: invalid value encountered in double_scalars\n",
      "  ret = ret.dtype.type(ret / rcount)\n"
     ]
    },
    {
     "name": "stdout",
     "output_type": "stream",
     "text": [
      "data_101_5 afDuration: [[2, 40], [59, 78], [91, 116]]\n",
      "data_101_5 len(Ecg_to_change): 3\n"
     ]
    },
    {
     "name": "stderr",
     "output_type": "stream",
     "text": [
      "d:\\Anaconda\\envs\\shap\\lib\\site-packages\\numpy\\core\\fromnumeric.py:3441: RuntimeWarning: Mean of empty slice.\n",
      "  out=out, **kwargs)\n",
      "d:\\Anaconda\\envs\\shap\\lib\\site-packages\\numpy\\core\\_methods.py:189: RuntimeWarning: invalid value encountered in double_scalars\n",
      "  ret = ret.dtype.type(ret / rcount)\n"
     ]
    },
    {
     "name": "stdout",
     "output_type": "stream",
     "text": [
      "data_101_6 afDuration: [[22, 53], [72, 81], [95, 154], [189, 203]]\n",
      "data_101_6 len(Ecg_to_change): 4\n",
      "data_101_7 afDuration: [[2, 52], [58, 70], [96, 106], [116, 189]]\n",
      "data_101_7 len(Ecg_to_change): 4\n",
      "data_101_8 afDuration: [[25, 153], [186, 244]]\n",
      "data_101_8 len(Ecg_to_change): 2\n"
     ]
    },
    {
     "name": "stderr",
     "output_type": "stream",
     "text": [
      "d:\\Anaconda\\envs\\shap\\lib\\site-packages\\numpy\\core\\fromnumeric.py:3441: RuntimeWarning: Mean of empty slice.\n",
      "  out=out, **kwargs)\n",
      "d:\\Anaconda\\envs\\shap\\lib\\site-packages\\numpy\\core\\_methods.py:189: RuntimeWarning: invalid value encountered in double_scalars\n",
      "  ret = ret.dtype.type(ret / rcount)\n"
     ]
    },
    {
     "name": "stdout",
     "output_type": "stream",
     "text": [
      "data_101_9 afDuration: [[21, 76]]\n",
      "data_101_9 len(Ecg_to_change): 1\n",
      "data_10_1 afDuration: [[0, 610]]\n",
      "data_10_1 len(Ecg_to_change): 1\n",
      "data_10_10 afDuration: [[0, 2552]]\n",
      "data_10_10 len(Ecg_to_change): 1\n"
     ]
    },
    {
     "name": "stderr",
     "output_type": "stream",
     "text": [
      "d:\\Anaconda\\envs\\shap\\lib\\site-packages\\numpy\\core\\fromnumeric.py:3441: RuntimeWarning: Mean of empty slice.\n",
      "  out=out, **kwargs)\n",
      "d:\\Anaconda\\envs\\shap\\lib\\site-packages\\numpy\\core\\_methods.py:189: RuntimeWarning: invalid value encountered in double_scalars\n",
      "  ret = ret.dtype.type(ret / rcount)\n"
     ]
    },
    {
     "name": "stdout",
     "output_type": "stream",
     "text": [
      "data_10_11 afDuration: [[0, 782]]\n",
      "data_10_11 len(Ecg_to_change): 1\n",
      "data_10_12 afDuration: [[0, 612]]\n",
      "data_10_12 len(Ecg_to_change): 1\n"
     ]
    },
    {
     "name": "stderr",
     "output_type": "stream",
     "text": [
      "d:\\Anaconda\\envs\\shap\\lib\\site-packages\\numpy\\core\\fromnumeric.py:3441: RuntimeWarning: Mean of empty slice.\n",
      "  out=out, **kwargs)\n",
      "d:\\Anaconda\\envs\\shap\\lib\\site-packages\\numpy\\core\\_methods.py:189: RuntimeWarning: invalid value encountered in double_scalars\n",
      "  ret = ret.dtype.type(ret / rcount)\n"
     ]
    },
    {
     "name": "stdout",
     "output_type": "stream",
     "text": [
      "data_10_13 afDuration: [[0, 802]]\n",
      "data_10_13 len(Ecg_to_change): 1\n",
      "data_10_14 afDuration: [[0, 232]]\n",
      "data_10_14 len(Ecg_to_change): 1\n",
      "data_10_2 afDuration: [[0, 815]]\n",
      "data_10_2 len(Ecg_to_change): 1\n",
      "data_10_3 afDuration: [[0, 550]]\n",
      "data_10_3 len(Ecg_to_change): 1\n",
      "data_10_4 afDuration: [[0, 792]]\n",
      "data_10_4 len(Ecg_to_change): 1\n",
      "data_10_5 afDuration: [[0, 767]]\n",
      "data_10_5 len(Ecg_to_change): 1\n",
      "data_10_6 afDuration: [[0, 1547]]\n",
      "data_10_6 len(Ecg_to_change): 1\n",
      "data_10_7 afDuration: [[0, 806]]\n",
      "data_10_7 len(Ecg_to_change): 1\n"
     ]
    },
    {
     "name": "stderr",
     "output_type": "stream",
     "text": [
      "d:\\Anaconda\\envs\\shap\\lib\\site-packages\\numpy\\core\\fromnumeric.py:3441: RuntimeWarning: Mean of empty slice.\n",
      "  out=out, **kwargs)\n",
      "d:\\Anaconda\\envs\\shap\\lib\\site-packages\\numpy\\core\\_methods.py:189: RuntimeWarning: invalid value encountered in double_scalars\n",
      "  ret = ret.dtype.type(ret / rcount)\n"
     ]
    },
    {
     "name": "stdout",
     "output_type": "stream",
     "text": [
      "data_10_8 afDuration: [[0, 2802]]\n",
      "data_10_8 len(Ecg_to_change): 1\n"
     ]
    },
    {
     "name": "stderr",
     "output_type": "stream",
     "text": [
      "d:\\Anaconda\\envs\\shap\\lib\\site-packages\\numpy\\core\\fromnumeric.py:3441: RuntimeWarning: Mean of empty slice.\n",
      "  out=out, **kwargs)\n",
      "d:\\Anaconda\\envs\\shap\\lib\\site-packages\\numpy\\core\\_methods.py:189: RuntimeWarning: invalid value encountered in double_scalars\n",
      "  ret = ret.dtype.type(ret / rcount)\n"
     ]
    },
    {
     "name": "stdout",
     "output_type": "stream",
     "text": [
      "data_10_9 afDuration: [[0, 302]]\n",
      "data_10_9 len(Ecg_to_change): 1\n",
      "data_24_1 afDuration: [[0, 1165]]\n",
      "data_24_1 len(Ecg_to_change): 1\n",
      "data_24_10 afDuration: [[0, 149]]\n",
      "data_24_10 len(Ecg_to_change): 1\n",
      "data_24_11 afDuration: [[0, 492]]\n",
      "data_24_11 len(Ecg_to_change): 1\n",
      "data_24_12 afDuration: [[0, 45]]\n",
      "data_24_12 len(Ecg_to_change): 1\n",
      "data_24_13 afDuration: [[0, 1708]]\n",
      "data_24_13 len(Ecg_to_change): 1\n",
      "data_24_14 afDuration: [[0, 249]]\n",
      "data_24_14 len(Ecg_to_change): 1\n",
      "data_24_15 afDuration: [[0, 632]]\n",
      "data_24_15 len(Ecg_to_change): 1\n"
     ]
    },
    {
     "name": "stderr",
     "output_type": "stream",
     "text": [
      "d:\\Anaconda\\envs\\shap\\lib\\site-packages\\numpy\\core\\fromnumeric.py:3441: RuntimeWarning: Mean of empty slice.\n",
      "  out=out, **kwargs)\n",
      "d:\\Anaconda\\envs\\shap\\lib\\site-packages\\numpy\\core\\_methods.py:189: RuntimeWarning: invalid value encountered in double_scalars\n",
      "  ret = ret.dtype.type(ret / rcount)\n"
     ]
    },
    {
     "name": "stdout",
     "output_type": "stream",
     "text": [
      "data_24_16 afDuration: [[0, 783]]\n",
      "data_24_16 len(Ecg_to_change): 1\n",
      "data_24_17 afDuration: [[0, 213]]\n",
      "data_24_17 len(Ecg_to_change): 1\n",
      "data_24_18 afDuration: [[0, 795]]\n",
      "data_24_18 len(Ecg_to_change): 1\n",
      "data_24_19 afDuration: [[0, 293]]\n",
      "data_24_19 len(Ecg_to_change): 1\n"
     ]
    },
    {
     "name": "stderr",
     "output_type": "stream",
     "text": [
      "d:\\Anaconda\\envs\\shap\\lib\\site-packages\\numpy\\core\\fromnumeric.py:3441: RuntimeWarning: Mean of empty slice.\n",
      "  out=out, **kwargs)\n",
      "d:\\Anaconda\\envs\\shap\\lib\\site-packages\\numpy\\core\\_methods.py:189: RuntimeWarning: invalid value encountered in double_scalars\n",
      "  ret = ret.dtype.type(ret / rcount)\n"
     ]
    },
    {
     "name": "stdout",
     "output_type": "stream",
     "text": [
      "data_24_2 afDuration: [[0, 302]]\n",
      "data_24_2 len(Ecg_to_change): 1\n"
     ]
    },
    {
     "name": "stderr",
     "output_type": "stream",
     "text": [
      "d:\\Anaconda\\envs\\shap\\lib\\site-packages\\numpy\\core\\fromnumeric.py:3441: RuntimeWarning: Mean of empty slice.\n",
      "  out=out, **kwargs)\n",
      "d:\\Anaconda\\envs\\shap\\lib\\site-packages\\numpy\\core\\_methods.py:189: RuntimeWarning: invalid value encountered in double_scalars\n",
      "  ret = ret.dtype.type(ret / rcount)\n"
     ]
    },
    {
     "name": "stdout",
     "output_type": "stream",
     "text": [
      "data_24_20 afDuration: [[0, 62]]\n",
      "data_24_20 len(Ecg_to_change): 1\n",
      "data_24_21 afDuration: [[0, 276]]\n",
      "data_24_21 len(Ecg_to_change): 1\n",
      "data_24_22 afDuration: [[0, 110]]\n",
      "data_24_22 len(Ecg_to_change): 1\n"
     ]
    },
    {
     "name": "stderr",
     "output_type": "stream",
     "text": [
      "d:\\Anaconda\\envs\\shap\\lib\\site-packages\\numpy\\core\\fromnumeric.py:3441: RuntimeWarning: Mean of empty slice.\n",
      "  out=out, **kwargs)\n",
      "d:\\Anaconda\\envs\\shap\\lib\\site-packages\\numpy\\core\\_methods.py:189: RuntimeWarning: invalid value encountered in double_scalars\n",
      "  ret = ret.dtype.type(ret / rcount)\n"
     ]
    },
    {
     "name": "stdout",
     "output_type": "stream",
     "text": [
      "data_24_23 afDuration: [[0, 380]]\n",
      "data_24_23 len(Ecg_to_change): 1\n",
      "data_24_24 afDuration: [[0, 173]]\n",
      "data_24_24 len(Ecg_to_change): 1\n"
     ]
    },
    {
     "name": "stderr",
     "output_type": "stream",
     "text": [
      "d:\\Anaconda\\envs\\shap\\lib\\site-packages\\numpy\\core\\fromnumeric.py:3441: RuntimeWarning: Mean of empty slice.\n",
      "  out=out, **kwargs)\n",
      "d:\\Anaconda\\envs\\shap\\lib\\site-packages\\numpy\\core\\_methods.py:189: RuntimeWarning: invalid value encountered in double_scalars\n",
      "  ret = ret.dtype.type(ret / rcount)\n"
     ]
    },
    {
     "name": "stdout",
     "output_type": "stream",
     "text": [
      "data_24_25 afDuration: [[0, 162]]\n",
      "data_24_25 len(Ecg_to_change): 1\n"
     ]
    },
    {
     "name": "stderr",
     "output_type": "stream",
     "text": [
      "d:\\Anaconda\\envs\\shap\\lib\\site-packages\\numpy\\core\\fromnumeric.py:3441: RuntimeWarning: Mean of empty slice.\n",
      "  out=out, **kwargs)\n",
      "d:\\Anaconda\\envs\\shap\\lib\\site-packages\\numpy\\core\\_methods.py:189: RuntimeWarning: invalid value encountered in double_scalars\n",
      "  ret = ret.dtype.type(ret / rcount)\n"
     ]
    },
    {
     "name": "stdout",
     "output_type": "stream",
     "text": [
      "data_24_26 afDuration: [[0, 44]]\n",
      "data_24_26 len(Ecg_to_change): 1\n"
     ]
    },
    {
     "name": "stderr",
     "output_type": "stream",
     "text": [
      "d:\\Anaconda\\envs\\shap\\lib\\site-packages\\numpy\\core\\fromnumeric.py:3441: RuntimeWarning: Mean of empty slice.\n",
      "  out=out, **kwargs)\n",
      "d:\\Anaconda\\envs\\shap\\lib\\site-packages\\numpy\\core\\_methods.py:189: RuntimeWarning: invalid value encountered in double_scalars\n",
      "  ret = ret.dtype.type(ret / rcount)\n"
     ]
    },
    {
     "name": "stdout",
     "output_type": "stream",
     "text": [
      "data_24_3 afDuration: [[0, 62]]\n",
      "data_24_3 len(Ecg_to_change): 1\n",
      "data_24_4 afDuration: [[0, 125]]\n",
      "data_24_4 len(Ecg_to_change): 1\n",
      "data_24_5 afDuration: [[0, 276]]\n",
      "data_24_5 len(Ecg_to_change): 1\n",
      "data_24_6 afDuration: [[0, 95]]\n",
      "data_24_6 len(Ecg_to_change): 1\n",
      "data_24_7 afDuration: [[0, 90]]\n",
      "data_24_7 len(Ecg_to_change): 1\n",
      "data_24_8 afDuration: [[0, 138]]\n",
      "data_24_8 len(Ecg_to_change): 1\n",
      "data_24_9 afDuration: [[0, 814]]\n",
      "data_24_9 len(Ecg_to_change): 1\n"
     ]
    },
    {
     "name": "stderr",
     "output_type": "stream",
     "text": [
      "d:\\Anaconda\\envs\\shap\\lib\\site-packages\\numpy\\core\\fromnumeric.py:3441: RuntimeWarning: Mean of empty slice.\n",
      "  out=out, **kwargs)\n",
      "d:\\Anaconda\\envs\\shap\\lib\\site-packages\\numpy\\core\\_methods.py:189: RuntimeWarning: invalid value encountered in double_scalars\n",
      "  ret = ret.dtype.type(ret / rcount)\n"
     ]
    },
    {
     "name": "stdout",
     "output_type": "stream",
     "text": [
      "data_59_1 afDuration: [[0, 344]]\n",
      "data_59_1 len(Ecg_to_change): 1\n",
      "data_59_10 afDuration: [[0, 770]]\n",
      "data_59_10 len(Ecg_to_change): 1\n"
     ]
    },
    {
     "name": "stderr",
     "output_type": "stream",
     "text": [
      "d:\\Anaconda\\envs\\shap\\lib\\site-packages\\numpy\\core\\fromnumeric.py:3441: RuntimeWarning: Mean of empty slice.\n",
      "  out=out, **kwargs)\n",
      "d:\\Anaconda\\envs\\shap\\lib\\site-packages\\numpy\\core\\_methods.py:189: RuntimeWarning: invalid value encountered in double_scalars\n",
      "  ret = ret.dtype.type(ret / rcount)\n"
     ]
    },
    {
     "name": "stdout",
     "output_type": "stream",
     "text": [
      "data_59_11 afDuration: [[0, 202]]\n",
      "data_59_11 len(Ecg_to_change): 1\n",
      "data_59_12 afDuration: [[0, 411]]\n",
      "data_59_12 len(Ecg_to_change): 1\n",
      "data_59_13 afDuration: [[0, 785]]\n",
      "data_59_13 len(Ecg_to_change): 1\n",
      "data_59_14 afDuration: [[0, 114]]\n",
      "data_59_14 len(Ecg_to_change): 1\n"
     ]
    },
    {
     "name": "stderr",
     "output_type": "stream",
     "text": [
      "d:\\Anaconda\\envs\\shap\\lib\\site-packages\\numpy\\core\\fromnumeric.py:3441: RuntimeWarning: Mean of empty slice.\n",
      "  out=out, **kwargs)\n",
      "d:\\Anaconda\\envs\\shap\\lib\\site-packages\\numpy\\core\\_methods.py:189: RuntimeWarning: invalid value encountered in double_scalars\n",
      "  ret = ret.dtype.type(ret / rcount)\n"
     ]
    },
    {
     "name": "stdout",
     "output_type": "stream",
     "text": [
      "data_59_15 afDuration: [[0, 902]]\n",
      "data_59_15 len(Ecg_to_change): 1\n",
      "data_59_16 afDuration: [[0, 418]]\n",
      "data_59_16 len(Ecg_to_change): 1\n"
     ]
    },
    {
     "name": "stderr",
     "output_type": "stream",
     "text": [
      "d:\\Anaconda\\envs\\shap\\lib\\site-packages\\numpy\\core\\fromnumeric.py:3441: RuntimeWarning: Mean of empty slice.\n",
      "  out=out, **kwargs)\n",
      "d:\\Anaconda\\envs\\shap\\lib\\site-packages\\numpy\\core\\_methods.py:189: RuntimeWarning: invalid value encountered in double_scalars\n",
      "  ret = ret.dtype.type(ret / rcount)\n"
     ]
    },
    {
     "name": "stdout",
     "output_type": "stream",
     "text": [
      "data_59_17 afDuration: [[0, 1722]]\n",
      "data_59_17 len(Ecg_to_change): 1\n"
     ]
    },
    {
     "name": "stderr",
     "output_type": "stream",
     "text": [
      "d:\\Anaconda\\envs\\shap\\lib\\site-packages\\numpy\\core\\fromnumeric.py:3441: RuntimeWarning: Mean of empty slice.\n",
      "  out=out, **kwargs)\n",
      "d:\\Anaconda\\envs\\shap\\lib\\site-packages\\numpy\\core\\_methods.py:189: RuntimeWarning: invalid value encountered in double_scalars\n",
      "  ret = ret.dtype.type(ret / rcount)\n"
     ]
    },
    {
     "name": "stdout",
     "output_type": "stream",
     "text": [
      "data_59_18 afDuration: [[0, 819]]\n",
      "data_59_18 len(Ecg_to_change): 1\n"
     ]
    },
    {
     "name": "stderr",
     "output_type": "stream",
     "text": [
      "d:\\Anaconda\\envs\\shap\\lib\\site-packages\\numpy\\core\\fromnumeric.py:3441: RuntimeWarning: Mean of empty slice.\n",
      "  out=out, **kwargs)\n",
      "d:\\Anaconda\\envs\\shap\\lib\\site-packages\\numpy\\core\\_methods.py:189: RuntimeWarning: invalid value encountered in double_scalars\n",
      "  ret = ret.dtype.type(ret / rcount)\n"
     ]
    },
    {
     "name": "stdout",
     "output_type": "stream",
     "text": [
      "data_59_19 afDuration: [[0, 1263]]\n",
      "data_59_19 len(Ecg_to_change): 1\n",
      "data_59_2 afDuration: [[0, 432]]\n",
      "data_59_2 len(Ecg_to_change): 1\n",
      "data_59_20 afDuration: [[0, 458]]\n",
      "data_59_20 len(Ecg_to_change): 1\n",
      "data_59_21 afDuration: [[0, 431]]\n",
      "data_59_21 len(Ecg_to_change): 1\n",
      "data_59_22 afDuration: [[0, 453]]\n",
      "data_59_22 len(Ecg_to_change): 1\n",
      "data_59_23 afDuration: [[0, 416]]\n",
      "data_59_23 len(Ecg_to_change): 1\n",
      "data_59_24 afDuration: [[0, 450]]\n",
      "data_59_24 len(Ecg_to_change): 1\n"
     ]
    },
    {
     "name": "stderr",
     "output_type": "stream",
     "text": [
      "d:\\Anaconda\\envs\\shap\\lib\\site-packages\\numpy\\core\\fromnumeric.py:3441: RuntimeWarning: Mean of empty slice.\n",
      "  out=out, **kwargs)\n",
      "d:\\Anaconda\\envs\\shap\\lib\\site-packages\\numpy\\core\\_methods.py:189: RuntimeWarning: invalid value encountered in double_scalars\n",
      "  ret = ret.dtype.type(ret / rcount)\n"
     ]
    },
    {
     "name": "stdout",
     "output_type": "stream",
     "text": [
      "data_59_3 afDuration: [[0, 600]]\n",
      "data_59_3 len(Ecg_to_change): 1\n",
      "data_59_4 afDuration: [[0, 251]]\n",
      "data_59_4 len(Ecg_to_change): 1\n"
     ]
    },
    {
     "name": "stderr",
     "output_type": "stream",
     "text": [
      "d:\\Anaconda\\envs\\shap\\lib\\site-packages\\numpy\\core\\fromnumeric.py:3441: RuntimeWarning: Mean of empty slice.\n",
      "  out=out, **kwargs)\n",
      "d:\\Anaconda\\envs\\shap\\lib\\site-packages\\numpy\\core\\_methods.py:189: RuntimeWarning: invalid value encountered in double_scalars\n",
      "  ret = ret.dtype.type(ret / rcount)\n"
     ]
    },
    {
     "name": "stdout",
     "output_type": "stream",
     "text": [
      "data_59_5 afDuration: [[0, 1321]]\n",
      "data_59_5 len(Ecg_to_change): 1\n"
     ]
    },
    {
     "name": "stderr",
     "output_type": "stream",
     "text": [
      "d:\\Anaconda\\envs\\shap\\lib\\site-packages\\numpy\\core\\fromnumeric.py:3441: RuntimeWarning: Mean of empty slice.\n",
      "  out=out, **kwargs)\n",
      "d:\\Anaconda\\envs\\shap\\lib\\site-packages\\numpy\\core\\_methods.py:189: RuntimeWarning: invalid value encountered in double_scalars\n",
      "  ret = ret.dtype.type(ret / rcount)\n"
     ]
    },
    {
     "name": "stdout",
     "output_type": "stream",
     "text": [
      "data_59_6 afDuration: [[0, 1161]]\n",
      "data_59_6 len(Ecg_to_change): 1\n"
     ]
    },
    {
     "name": "stderr",
     "output_type": "stream",
     "text": [
      "d:\\Anaconda\\envs\\shap\\lib\\site-packages\\numpy\\core\\fromnumeric.py:3441: RuntimeWarning: Mean of empty slice.\n",
      "  out=out, **kwargs)\n",
      "d:\\Anaconda\\envs\\shap\\lib\\site-packages\\numpy\\core\\_methods.py:189: RuntimeWarning: invalid value encountered in double_scalars\n",
      "  ret = ret.dtype.type(ret / rcount)\n"
     ]
    },
    {
     "name": "stdout",
     "output_type": "stream",
     "text": [
      "data_59_7 afDuration: [[0, 1301]]\n",
      "data_59_7 len(Ecg_to_change): 1\n"
     ]
    },
    {
     "name": "stderr",
     "output_type": "stream",
     "text": [
      "d:\\Anaconda\\envs\\shap\\lib\\site-packages\\numpy\\core\\fromnumeric.py:3441: RuntimeWarning: Mean of empty slice.\n",
      "  out=out, **kwargs)\n",
      "d:\\Anaconda\\envs\\shap\\lib\\site-packages\\numpy\\core\\_methods.py:189: RuntimeWarning: invalid value encountered in double_scalars\n",
      "  ret = ret.dtype.type(ret / rcount)\n"
     ]
    },
    {
     "name": "stdout",
     "output_type": "stream",
     "text": [
      "data_59_8 afDuration: [[0, 1604]]\n",
      "data_59_8 len(Ecg_to_change): 1\n",
      "data_59_9 afDuration: [[0, 652]]\n",
      "data_59_9 len(Ecg_to_change): 1\n"
     ]
    },
    {
     "name": "stderr",
     "output_type": "stream",
     "text": [
      "d:\\Anaconda\\envs\\shap\\lib\\site-packages\\numpy\\core\\fromnumeric.py:3441: RuntimeWarning: Mean of empty slice.\n",
      "  out=out, **kwargs)\n",
      "d:\\Anaconda\\envs\\shap\\lib\\site-packages\\numpy\\core\\_methods.py:189: RuntimeWarning: invalid value encountered in double_scalars\n",
      "  ret = ret.dtype.type(ret / rcount)\n"
     ]
    },
    {
     "name": "stdout",
     "output_type": "stream",
     "text": [
      "data_61_1 afDuration: [[121, 264]]\n",
      "data_61_1 len(Ecg_to_change): 1\n",
      "data_61_2 afDuration: [[0, 0]]\n",
      "data_61_2 len(Ecg_to_change): 1\n",
      "data_61_3 afDuration: [[0, 0]]\n",
      "data_61_3 len(Ecg_to_change): 1\n",
      "data_61_4 afDuration: [[0, 0]]\n",
      "data_61_4 len(Ecg_to_change): 1\n",
      "data_61_5 afDuration: [[0, 0]]\n",
      "data_61_5 len(Ecg_to_change): 1\n"
     ]
    },
    {
     "name": "stderr",
     "output_type": "stream",
     "text": [
      "d:\\Anaconda\\envs\\shap\\lib\\site-packages\\numpy\\core\\fromnumeric.py:3441: RuntimeWarning: Mean of empty slice.\n",
      "  out=out, **kwargs)\n",
      "d:\\Anaconda\\envs\\shap\\lib\\site-packages\\numpy\\core\\_methods.py:189: RuntimeWarning: invalid value encountered in double_scalars\n",
      "  ret = ret.dtype.type(ret / rcount)\n"
     ]
    },
    {
     "name": "stdout",
     "output_type": "stream",
     "text": [
      "data_61_6 afDuration: [[0, 0]]\n",
      "data_61_6 len(Ecg_to_change): 1\n",
      "data_61_7 afDuration: [[0, 0]]\n",
      "data_61_7 len(Ecg_to_change): 1\n",
      "data_61_8 afDuration: [[0, 0]]\n",
      "data_61_8 len(Ecg_to_change): 1\n",
      "data_65_1 afDuration: [[0, 745]]\n",
      "data_65_1 len(Ecg_to_change): 1\n"
     ]
    },
    {
     "name": "stderr",
     "output_type": "stream",
     "text": [
      "d:\\Anaconda\\envs\\shap\\lib\\site-packages\\numpy\\core\\fromnumeric.py:3441: RuntimeWarning: Mean of empty slice.\n",
      "  out=out, **kwargs)\n",
      "d:\\Anaconda\\envs\\shap\\lib\\site-packages\\numpy\\core\\_methods.py:189: RuntimeWarning: invalid value encountered in double_scalars\n",
      "  ret = ret.dtype.type(ret / rcount)\n"
     ]
    },
    {
     "name": "stdout",
     "output_type": "stream",
     "text": [
      "data_65_10 afDuration: [[0, 959]]\n",
      "data_65_10 len(Ecg_to_change): 1\n",
      "data_65_11 afDuration: [[0, 611]]\n",
      "data_65_11 len(Ecg_to_change): 1\n"
     ]
    },
    {
     "name": "stderr",
     "output_type": "stream",
     "text": [
      "d:\\Anaconda\\envs\\shap\\lib\\site-packages\\numpy\\core\\fromnumeric.py:3441: RuntimeWarning: Mean of empty slice.\n",
      "  out=out, **kwargs)\n",
      "d:\\Anaconda\\envs\\shap\\lib\\site-packages\\numpy\\core\\_methods.py:189: RuntimeWarning: invalid value encountered in double_scalars\n",
      "  ret = ret.dtype.type(ret / rcount)\n"
     ]
    },
    {
     "name": "stdout",
     "output_type": "stream",
     "text": [
      "data_65_12 afDuration: [[0, 5121]]\n",
      "data_65_12 len(Ecg_to_change): 1\n"
     ]
    },
    {
     "name": "stderr",
     "output_type": "stream",
     "text": [
      "d:\\Anaconda\\envs\\shap\\lib\\site-packages\\numpy\\core\\fromnumeric.py:3441: RuntimeWarning: Mean of empty slice.\n",
      "  out=out, **kwargs)\n",
      "d:\\Anaconda\\envs\\shap\\lib\\site-packages\\numpy\\core\\_methods.py:189: RuntimeWarning: invalid value encountered in double_scalars\n",
      "  ret = ret.dtype.type(ret / rcount)\n"
     ]
    },
    {
     "name": "stdout",
     "output_type": "stream",
     "text": [
      "data_65_2 afDuration: [[0, 604]]\n",
      "data_65_2 len(Ecg_to_change): 1\n",
      "data_65_3 afDuration: [[0, 1072]]\n",
      "data_65_3 len(Ecg_to_change): 1\n",
      "data_65_4 afDuration: [[0, 1406]]\n",
      "data_65_4 len(Ecg_to_change): 1\n"
     ]
    },
    {
     "name": "stderr",
     "output_type": "stream",
     "text": [
      "d:\\Anaconda\\envs\\shap\\lib\\site-packages\\numpy\\core\\fromnumeric.py:3441: RuntimeWarning: Mean of empty slice.\n",
      "  out=out, **kwargs)\n",
      "d:\\Anaconda\\envs\\shap\\lib\\site-packages\\numpy\\core\\_methods.py:189: RuntimeWarning: invalid value encountered in double_scalars\n",
      "  ret = ret.dtype.type(ret / rcount)\n"
     ]
    },
    {
     "name": "stdout",
     "output_type": "stream",
     "text": [
      "data_65_5 afDuration: [[0, 582]]\n",
      "data_65_5 len(Ecg_to_change): 1\n"
     ]
    },
    {
     "name": "stderr",
     "output_type": "stream",
     "text": [
      "d:\\Anaconda\\envs\\shap\\lib\\site-packages\\numpy\\core\\fromnumeric.py:3441: RuntimeWarning: Mean of empty slice.\n",
      "  out=out, **kwargs)\n",
      "d:\\Anaconda\\envs\\shap\\lib\\site-packages\\numpy\\core\\_methods.py:189: RuntimeWarning: invalid value encountered in double_scalars\n",
      "  ret = ret.dtype.type(ret / rcount)\n"
     ]
    },
    {
     "name": "stdout",
     "output_type": "stream",
     "text": [
      "data_65_6 afDuration: [[0, 321]]\n",
      "data_65_6 len(Ecg_to_change): 1\n",
      "data_65_7 afDuration: [[0, 876]]\n",
      "data_65_7 len(Ecg_to_change): 1\n"
     ]
    },
    {
     "name": "stderr",
     "output_type": "stream",
     "text": [
      "d:\\Anaconda\\envs\\shap\\lib\\site-packages\\numpy\\core\\fromnumeric.py:3441: RuntimeWarning: Mean of empty slice.\n",
      "  out=out, **kwargs)\n",
      "d:\\Anaconda\\envs\\shap\\lib\\site-packages\\numpy\\core\\_methods.py:189: RuntimeWarning: invalid value encountered in double_scalars\n",
      "  ret = ret.dtype.type(ret / rcount)\n"
     ]
    },
    {
     "name": "stdout",
     "output_type": "stream",
     "text": [
      "data_65_8 afDuration: [[0, 1104]]\n",
      "data_65_8 len(Ecg_to_change): 1\n"
     ]
    },
    {
     "name": "stderr",
     "output_type": "stream",
     "text": [
      "d:\\Anaconda\\envs\\shap\\lib\\site-packages\\numpy\\core\\fromnumeric.py:3441: RuntimeWarning: Mean of empty slice.\n",
      "  out=out, **kwargs)\n",
      "d:\\Anaconda\\envs\\shap\\lib\\site-packages\\numpy\\core\\_methods.py:189: RuntimeWarning: invalid value encountered in double_scalars\n",
      "  ret = ret.dtype.type(ret / rcount)\n"
     ]
    },
    {
     "name": "stdout",
     "output_type": "stream",
     "text": [
      "data_65_9 afDuration: [[0, 820]]\n",
      "data_65_9 len(Ecg_to_change): 1\n"
     ]
    },
    {
     "name": "stderr",
     "output_type": "stream",
     "text": [
      "d:\\Anaconda\\envs\\shap\\lib\\site-packages\\numpy\\core\\fromnumeric.py:3441: RuntimeWarning: Mean of empty slice.\n",
      "  out=out, **kwargs)\n",
      "d:\\Anaconda\\envs\\shap\\lib\\site-packages\\numpy\\core\\_methods.py:189: RuntimeWarning: invalid value encountered in double_scalars\n",
      "  ret = ret.dtype.type(ret / rcount)\n"
     ]
    },
    {
     "name": "stdout",
     "output_type": "stream",
     "text": [
      "data_67_1 afDuration: [[0, 622]]\n",
      "data_67_1 len(Ecg_to_change): 1\n",
      "data_67_10 afDuration: [[0, 173]]\n",
      "data_67_10 len(Ecg_to_change): 1\n",
      "data_67_11 afDuration: [[0, 175]]\n",
      "data_67_11 len(Ecg_to_change): 1\n"
     ]
    },
    {
     "name": "stderr",
     "output_type": "stream",
     "text": [
      "d:\\Anaconda\\envs\\shap\\lib\\site-packages\\numpy\\core\\fromnumeric.py:3441: RuntimeWarning: Mean of empty slice.\n",
      "  out=out, **kwargs)\n",
      "d:\\Anaconda\\envs\\shap\\lib\\site-packages\\numpy\\core\\_methods.py:189: RuntimeWarning: invalid value encountered in double_scalars\n",
      "  ret = ret.dtype.type(ret / rcount)\n"
     ]
    },
    {
     "name": "stdout",
     "output_type": "stream",
     "text": [
      "data_67_12 afDuration: [[0, 699]]\n",
      "data_67_12 len(Ecg_to_change): 1\n",
      "data_67_13 afDuration: [[0, 169]]\n",
      "data_67_13 len(Ecg_to_change): 1\n",
      "data_67_14 afDuration: [[0, 258]]\n",
      "data_67_14 len(Ecg_to_change): 1\n",
      "data_67_15 afDuration: [[0, 98]]\n",
      "data_67_15 len(Ecg_to_change): 1\n"
     ]
    },
    {
     "name": "stderr",
     "output_type": "stream",
     "text": [
      "d:\\Anaconda\\envs\\shap\\lib\\site-packages\\numpy\\core\\fromnumeric.py:3441: RuntimeWarning: Mean of empty slice.\n",
      "  out=out, **kwargs)\n",
      "d:\\Anaconda\\envs\\shap\\lib\\site-packages\\numpy\\core\\_methods.py:189: RuntimeWarning: invalid value encountered in double_scalars\n",
      "  ret = ret.dtype.type(ret / rcount)\n"
     ]
    },
    {
     "name": "stdout",
     "output_type": "stream",
     "text": [
      "data_67_16 afDuration: [[0, 439]]\n",
      "data_67_16 len(Ecg_to_change): 1\n",
      "data_67_17 afDuration: [[0, 198]]\n",
      "data_67_17 len(Ecg_to_change): 1\n",
      "data_67_18 afDuration: [[0, 2015]]\n",
      "data_67_18 len(Ecg_to_change): 1\n"
     ]
    },
    {
     "name": "stderr",
     "output_type": "stream",
     "text": [
      "d:\\Anaconda\\envs\\shap\\lib\\site-packages\\numpy\\core\\fromnumeric.py:3441: RuntimeWarning: Mean of empty slice.\n",
      "  out=out, **kwargs)\n",
      "d:\\Anaconda\\envs\\shap\\lib\\site-packages\\numpy\\core\\_methods.py:189: RuntimeWarning: invalid value encountered in double_scalars\n",
      "  ret = ret.dtype.type(ret / rcount)\n"
     ]
    },
    {
     "name": "stdout",
     "output_type": "stream",
     "text": [
      "data_67_19 afDuration: [[0, 619]]\n",
      "data_67_19 len(Ecg_to_change): 1\n",
      "data_67_2 afDuration: [[0, 328]]\n",
      "data_67_2 len(Ecg_to_change): 1\n",
      "data_67_20 afDuration: [[0, 586]]\n",
      "data_67_20 len(Ecg_to_change): 1\n",
      "data_67_21 afDuration: [[0, 351]]\n",
      "data_67_21 len(Ecg_to_change): 1\n",
      "data_67_22 afDuration: [[0, 507]]\n",
      "data_67_22 len(Ecg_to_change): 1\n",
      "data_67_23 afDuration: [[0, 315]]\n",
      "data_67_23 len(Ecg_to_change): 1\n",
      "data_67_24 afDuration: [[0, 245]]\n",
      "data_67_24 len(Ecg_to_change): 1\n",
      "data_67_25 afDuration: [[0, 138]]\n",
      "data_67_25 len(Ecg_to_change): 1\n",
      "data_67_26 afDuration: [[0, 129]]\n",
      "data_67_26 len(Ecg_to_change): 1\n"
     ]
    },
    {
     "name": "stderr",
     "output_type": "stream",
     "text": [
      "d:\\Anaconda\\envs\\shap\\lib\\site-packages\\numpy\\core\\fromnumeric.py:3441: RuntimeWarning: Mean of empty slice.\n",
      "  out=out, **kwargs)\n",
      "d:\\Anaconda\\envs\\shap\\lib\\site-packages\\numpy\\core\\_methods.py:189: RuntimeWarning: invalid value encountered in double_scalars\n",
      "  ret = ret.dtype.type(ret / rcount)\n"
     ]
    },
    {
     "name": "stdout",
     "output_type": "stream",
     "text": [
      "data_67_27 afDuration: [[0, 63]]\n",
      "data_67_27 len(Ecg_to_change): 1\n",
      "data_67_28 afDuration: [[0, 194]]\n",
      "data_67_28 len(Ecg_to_change): 1\n",
      "data_67_3 afDuration: [[0, 678]]\n",
      "data_67_3 len(Ecg_to_change): 1\n"
     ]
    },
    {
     "name": "stderr",
     "output_type": "stream",
     "text": [
      "d:\\Anaconda\\envs\\shap\\lib\\site-packages\\numpy\\core\\fromnumeric.py:3441: RuntimeWarning: Mean of empty slice.\n",
      "  out=out, **kwargs)\n",
      "d:\\Anaconda\\envs\\shap\\lib\\site-packages\\numpy\\core\\_methods.py:189: RuntimeWarning: invalid value encountered in double_scalars\n",
      "  ret = ret.dtype.type(ret / rcount)\n"
     ]
    },
    {
     "name": "stdout",
     "output_type": "stream",
     "text": [
      "data_67_4 afDuration: [[0, 402]]\n",
      "data_67_4 len(Ecg_to_change): 1\n",
      "data_67_5 afDuration: [[0, 615]]\n",
      "data_67_5 len(Ecg_to_change): 1\n",
      "data_67_6 afDuration: [[0, 577]]\n",
      "data_67_6 len(Ecg_to_change): 1\n",
      "data_67_7 afDuration: [[0, 626]]\n",
      "data_67_7 len(Ecg_to_change): 1\n",
      "data_67_8 afDuration: [[0, 333]]\n",
      "data_67_8 len(Ecg_to_change): 1\n",
      "data_67_9 afDuration: [[0, 489]]\n",
      "data_67_9 len(Ecg_to_change): 1\n"
     ]
    },
    {
     "name": "stderr",
     "output_type": "stream",
     "text": [
      "d:\\Anaconda\\envs\\shap\\lib\\site-packages\\numpy\\core\\fromnumeric.py:3441: RuntimeWarning: Mean of empty slice.\n",
      "  out=out, **kwargs)\n",
      "d:\\Anaconda\\envs\\shap\\lib\\site-packages\\numpy\\core\\_methods.py:189: RuntimeWarning: invalid value encountered in double_scalars\n",
      "  ret = ret.dtype.type(ret / rcount)\n"
     ]
    },
    {
     "name": "stdout",
     "output_type": "stream",
     "text": [
      "data_81_1 afDuration: [[0, 283]]\n",
      "data_81_1 len(Ecg_to_change): 1\n",
      "data_81_2 afDuration: [[0, 132]]\n",
      "data_81_2 len(Ecg_to_change): 1\n",
      "data_81_3 afDuration: [[0, 1527]]\n",
      "data_81_3 len(Ecg_to_change): 1\n",
      "data_81_4 afDuration: [[0, 633]]\n",
      "data_81_4 len(Ecg_to_change): 1\n"
     ]
    },
    {
     "name": "stderr",
     "output_type": "stream",
     "text": [
      "d:\\Anaconda\\envs\\shap\\lib\\site-packages\\numpy\\core\\fromnumeric.py:3441: RuntimeWarning: Mean of empty slice.\n",
      "  out=out, **kwargs)\n",
      "d:\\Anaconda\\envs\\shap\\lib\\site-packages\\numpy\\core\\_methods.py:189: RuntimeWarning: invalid value encountered in double_scalars\n",
      "  ret = ret.dtype.type(ret / rcount)\n"
     ]
    },
    {
     "name": "stdout",
     "output_type": "stream",
     "text": [
      "data_81_5 afDuration: [[0, 860]]\n",
      "data_81_5 len(Ecg_to_change): 1\n",
      "data_81_6 afDuration: [[0, 407]]\n",
      "data_81_6 len(Ecg_to_change): 1\n",
      "data_81_7 afDuration: [[0, 1047]]\n",
      "data_81_7 len(Ecg_to_change): 1\n"
     ]
    },
    {
     "name": "stderr",
     "output_type": "stream",
     "text": [
      "d:\\Anaconda\\envs\\shap\\lib\\site-packages\\numpy\\core\\fromnumeric.py:3441: RuntimeWarning: Mean of empty slice.\n",
      "  out=out, **kwargs)\n",
      "d:\\Anaconda\\envs\\shap\\lib\\site-packages\\numpy\\core\\_methods.py:189: RuntimeWarning: invalid value encountered in double_scalars\n",
      "  ret = ret.dtype.type(ret / rcount)\n"
     ]
    },
    {
     "name": "stdout",
     "output_type": "stream",
     "text": [
      "data_81_8 afDuration: [[0, 919]]\n",
      "data_81_8 len(Ecg_to_change): 1\n",
      "data_82_1 afDuration: [[0, 229]]\n",
      "data_82_1 len(Ecg_to_change): 1\n"
     ]
    },
    {
     "name": "stderr",
     "output_type": "stream",
     "text": [
      "d:\\Anaconda\\envs\\shap\\lib\\site-packages\\numpy\\core\\fromnumeric.py:3441: RuntimeWarning: Mean of empty slice.\n",
      "  out=out, **kwargs)\n",
      "d:\\Anaconda\\envs\\shap\\lib\\site-packages\\numpy\\core\\_methods.py:189: RuntimeWarning: invalid value encountered in double_scalars\n",
      "  ret = ret.dtype.type(ret / rcount)\n"
     ]
    },
    {
     "name": "stdout",
     "output_type": "stream",
     "text": [
      "data_82_2 afDuration: [[0, 422]]\n",
      "data_82_2 len(Ecg_to_change): 1\n",
      "data_82_3 afDuration: [[0, 137]]\n",
      "data_82_3 len(Ecg_to_change): 1\n",
      "data_82_4 afDuration: [[0, 197]]\n",
      "data_82_4 len(Ecg_to_change): 1\n"
     ]
    },
    {
     "name": "stderr",
     "output_type": "stream",
     "text": [
      "d:\\Anaconda\\envs\\shap\\lib\\site-packages\\numpy\\core\\fromnumeric.py:3441: RuntimeWarning: Mean of empty slice.\n",
      "  out=out, **kwargs)\n",
      "d:\\Anaconda\\envs\\shap\\lib\\site-packages\\numpy\\core\\_methods.py:189: RuntimeWarning: invalid value encountered in double_scalars\n",
      "  ret = ret.dtype.type(ret / rcount)\n"
     ]
    },
    {
     "name": "stdout",
     "output_type": "stream",
     "text": [
      "data_82_5 afDuration: [[0, 204]]\n",
      "data_82_5 len(Ecg_to_change): 1\n",
      "data_82_6 afDuration: [[0, 531]]\n",
      "data_82_6 len(Ecg_to_change): 1\n",
      "data_82_7 afDuration: [[0, 253]]\n",
      "data_82_7 len(Ecg_to_change): 1\n",
      "data_91_1 afDuration: [[0, 21115]]\n",
      "data_91_1 len(Ecg_to_change): 1\n",
      "data_91_10 afDuration: [[0, 76]]\n",
      "data_91_10 len(Ecg_to_change): 1\n",
      "data_91_11 afDuration: [[0, 496]]\n",
      "data_91_11 len(Ecg_to_change): 1\n"
     ]
    },
    {
     "name": "stderr",
     "output_type": "stream",
     "text": [
      "d:\\Anaconda\\envs\\shap\\lib\\site-packages\\numpy\\core\\fromnumeric.py:3441: RuntimeWarning: Mean of empty slice.\n",
      "  out=out, **kwargs)\n",
      "d:\\Anaconda\\envs\\shap\\lib\\site-packages\\numpy\\core\\_methods.py:189: RuntimeWarning: invalid value encountered in double_scalars\n",
      "  ret = ret.dtype.type(ret / rcount)\n"
     ]
    },
    {
     "name": "stdout",
     "output_type": "stream",
     "text": [
      "data_91_12 afDuration: [[0, 1002]]\n",
      "data_91_12 len(Ecg_to_change): 1\n"
     ]
    },
    {
     "name": "stderr",
     "output_type": "stream",
     "text": [
      "d:\\Anaconda\\envs\\shap\\lib\\site-packages\\numpy\\core\\fromnumeric.py:3441: RuntimeWarning: Mean of empty slice.\n",
      "  out=out, **kwargs)\n",
      "d:\\Anaconda\\envs\\shap\\lib\\site-packages\\numpy\\core\\_methods.py:189: RuntimeWarning: invalid value encountered in double_scalars\n",
      "  ret = ret.dtype.type(ret / rcount)\n"
     ]
    },
    {
     "name": "stdout",
     "output_type": "stream",
     "text": [
      "data_91_13 afDuration: [[0, 742]]\n",
      "data_91_13 len(Ecg_to_change): 1\n",
      "data_91_14 afDuration: [[0, 474]]\n",
      "data_91_14 len(Ecg_to_change): 1\n",
      "data_91_15 afDuration: [[0, 509]]\n",
      "data_91_15 len(Ecg_to_change): 1\n"
     ]
    },
    {
     "name": "stderr",
     "output_type": "stream",
     "text": [
      "d:\\Anaconda\\envs\\shap\\lib\\site-packages\\numpy\\core\\fromnumeric.py:3441: RuntimeWarning: Mean of empty slice.\n",
      "  out=out, **kwargs)\n",
      "d:\\Anaconda\\envs\\shap\\lib\\site-packages\\numpy\\core\\_methods.py:189: RuntimeWarning: invalid value encountered in double_scalars\n",
      "  ret = ret.dtype.type(ret / rcount)\n"
     ]
    },
    {
     "name": "stdout",
     "output_type": "stream",
     "text": [
      "data_91_16 afDuration: [[0, 1002]]\n",
      "data_91_16 len(Ecg_to_change): 1\n"
     ]
    },
    {
     "name": "stderr",
     "output_type": "stream",
     "text": [
      "d:\\Anaconda\\envs\\shap\\lib\\site-packages\\numpy\\core\\fromnumeric.py:3441: RuntimeWarning: Mean of empty slice.\n",
      "  out=out, **kwargs)\n",
      "d:\\Anaconda\\envs\\shap\\lib\\site-packages\\numpy\\core\\_methods.py:189: RuntimeWarning: invalid value encountered in double_scalars\n",
      "  ret = ret.dtype.type(ret / rcount)\n"
     ]
    },
    {
     "name": "stdout",
     "output_type": "stream",
     "text": [
      "data_91_17 afDuration: [[0, 502]]\n",
      "data_91_17 len(Ecg_to_change): 1\n"
     ]
    },
    {
     "name": "stderr",
     "output_type": "stream",
     "text": [
      "d:\\Anaconda\\envs\\shap\\lib\\site-packages\\numpy\\core\\fromnumeric.py:3441: RuntimeWarning: Mean of empty slice.\n",
      "  out=out, **kwargs)\n",
      "d:\\Anaconda\\envs\\shap\\lib\\site-packages\\numpy\\core\\_methods.py:189: RuntimeWarning: invalid value encountered in double_scalars\n",
      "  ret = ret.dtype.type(ret / rcount)\n"
     ]
    },
    {
     "name": "stdout",
     "output_type": "stream",
     "text": [
      "data_91_18 afDuration: [[0, 1502]]\n",
      "data_91_18 len(Ecg_to_change): 1\n"
     ]
    },
    {
     "name": "stderr",
     "output_type": "stream",
     "text": [
      "d:\\Anaconda\\envs\\shap\\lib\\site-packages\\numpy\\core\\fromnumeric.py:3441: RuntimeWarning: Mean of empty slice.\n",
      "  out=out, **kwargs)\n",
      "d:\\Anaconda\\envs\\shap\\lib\\site-packages\\numpy\\core\\_methods.py:189: RuntimeWarning: invalid value encountered in double_scalars\n",
      "  ret = ret.dtype.type(ret / rcount)\n"
     ]
    },
    {
     "name": "stdout",
     "output_type": "stream",
     "text": [
      "data_91_19 afDuration: [[0, 1001]]\n",
      "data_91_19 len(Ecg_to_change): 1\n"
     ]
    }
   ],
   "source": [
    "from matplotlib import cm\n",
    "from matplotlib.collections import LineCollection\n",
    "\n",
    "\n",
    "def afDurationCreate(aux, afDuration):\n",
    "    seg = []\n",
    "    for i in range(len(aux)):\n",
    "        if aux[i] == '(AFIB' or aux[i] == 'AFL':\n",
    "            if len(seg) == 0:\n",
    "                seg.append(i)\n",
    "            else:\n",
    "                continue\n",
    "        elif aux[i] == '(N':\n",
    "            if len(seg) != 0:\n",
    "                seg.append(i)\n",
    "            else:\n",
    "                seg.append(i)\n",
    "                seg.append(i)\n",
    "            # seg.append(i)\n",
    "        if i == len(aux) - 1 and len(seg) == 1:\n",
    "            seg.append(i)\n",
    "        if len(seg) == 2:\n",
    "            afDuration.append(seg)\n",
    "            seg = []\n",
    "    if len(afDuration) == 0:\n",
    "        afDuration.append([0, 0])\n",
    "def checkInAf(x, afDuration):\n",
    "    # print(afDuration)\n",
    "    try:\n",
    "        for temp in afDuration:\n",
    "            s, e = temp[0], temp[1]\n",
    "            if x >= s and x < e:\n",
    "                return True\n",
    "        return False\n",
    "    except:\n",
    "        print(afDuration)\n",
    "        print(x)\n",
    "\n",
    "# targets = ['data_40_1'] # 阵发性房颤:40_1, 31_1, 31_2, 31_6, 31_7, 31_10\\11\\12\\13\\14, 39也是\n",
    "# targets = [f\"data_31_{i}\" for i in [1, 2, 6, 7, 10, 11, 12, 13, 14]]\n",
    "# testSet = [4, 11, 17, 18, 29, 30, 31, 37, 48, 75, 77, 83, 84, 86, 88, 93, 95, 97, 100, 102, 104]\n",
    "testSet1 = [16, 62, 12, 22, 71, 85, 53, 69, 26, 70, 5, 40, 41, 55, 47, 36, 78, 89, 45, 8, 79]\n",
    "testSet2 = [17, 31, 100, 93, 102, 95, 84, 86, 18, 11, 48, 97, 88, 83, 104, 30, 29, 75, 4, 77, 37]\n",
    "testSet3 = [43, 1, 49, 72, 25, 73, 44, 76, 7, 66, 32, 46, 42, 21, 14, 63, 94, 87, 33, 19, 74]\n",
    "testSet4 = [67, 15, 61, 96, 24, 9, 59, 91, 6, 0, 65, 81, 10, 20, 82, 99, 92, 35, 101, 27, 52]\n",
    "testSet5 = [103, 50, 64, 28, 68, 80, 90, 51, 98, 39, 3, 56, 58, 60, 54, 34, 38, 23, 13, 2, 57]\n",
    "# len(hf_keys): 1435\n",
    "# targets = [f\"data_39_{i}\" for i in range(1, 23)]\n",
    "# targets = ['data_88_4']\n",
    "# targets = ['data_96_1']\n",
    "# targets = ['data_25_19']\n",
    "for target in hf_keys:\n",
    "    if int(target.split('_')[1]) not in testSet4:\n",
    "        continue\n",
    "    file_name = target\n",
    "    record = wfdb.rdrecord(os.path.join(all_data_path, file_name))\n",
    "    sig, fields = wfdb.rdsamp(os.path.join(all_data_path, file_name))\n",
    "    label = key_value[int(target.split('_')[1])]\n",
    "    if label == 0:\n",
    "        continue\n",
    "\n",
    "    annotation = wfdb.rdann(os.path.join(all_data_path, file_name), 'atr')\n",
    "    R_location = annotation.sample\n",
    "    R_symbol = annotation.symbol\n",
    "    aux = annotation.aux_note\n",
    "    p_signal = record.p_signal[:, 0]\n",
    "    p_signal = p_signal.flatten()\n",
    "    # print(\"R_symbol: \", R_symbol)\n",
    "\n",
    "    # 滤波操作\n",
    "    sfreq = 200\n",
    "    low_freq = 0.5\n",
    "    high_freq = 50.0\n",
    "    p_signal = filter_data(p_signal, sfreq, low_freq, high_freq, method='iir', verbose=False)\n",
    "\n",
    "    # 获得概率值\n",
    "    seg_data = data[target]\n",
    "    # print(seg_data.shape)\n",
    "    seg_pro = []\n",
    "    for i in range(len(seg_data)):\n",
    "        seg_pro.append(round(seg_data[i][-2], 2))\n",
    "    \n",
    "    AF_location = []\n",
    "    # for i in range(len(R_symbol))[10:-5]:\n",
    "    #     if R_symbol[i] != 'N':\n",
    "    #         AF_location.append(i+1)\n",
    "    \n",
    "    afDuration = []\n",
    "    afDurationCreate(aux, afDuration)\n",
    "\n",
    "    # 概率变化情况，因只统计了N，所以要将我们的start和end转换为N的start和end\n",
    "    all_seg_pro = [0 for i in range(10)]\n",
    "    index = 0\n",
    "    for i in range(len(R_symbol))[10:-5]:\n",
    "        if R_symbol[i] == 'N':\n",
    "            all_seg_pro.append(seg_pro[index])\n",
    "            index += 1\n",
    "        else:\n",
    "            all_seg_pro.append(1)\n",
    "    # print(\"index: \", index)\n",
    "    \n",
    "    #  splitNum个beat分桶\n",
    "    # tonNum = 20\n",
    "    # splitNum = len(R_symbol) // tonNum\n",
    "    splitNum = 20\n",
    "    if splitNum == 0:\n",
    "        splitNum = 1\n",
    "    areasplitNum = [[] for i in range(len(R_symbol) // splitNum + 1)]\n",
    "    index = 0\n",
    "    for i in range(len(R_symbol))[10:-5]:\n",
    "        if R_symbol[i] == 'N':\n",
    "            areasplitNum[i // splitNum].append(seg_pro[index])\n",
    "            index += 1\n",
    "    \n",
    "    avgsplitNum = []\n",
    "    for i in range(len(areasplitNum)):\n",
    "        avgsplitNum.append(np.mean(areasplitNum[i]))\n",
    "    # print(\"len(avgsplitNum): \", len(avgsplitNum))\n",
    "    # print(\"avgsplitNum: \", avgsplitNum)\n",
    "\n",
    "    indices_to_change = []\n",
    "    Ecg_to_change = []\n",
    "    try:\n",
    "        for temp in afDuration:\n",
    "            afStart, afEnd = temp[0], temp[1]\n",
    "            afStart = afStart // splitNum\n",
    "            afEnd = afEnd // splitNum\n",
    "            if afStart == afEnd and label == 1 and afStart != 0:\n",
    "                afEnd += 1\n",
    "            indices_to_change.extend(range(afStart, afEnd))\n",
    "            # print(range(temp[0], temp[1]))\n",
    "            Ecg_to_change.append(range(R_location[temp[0]], R_location[temp[1]]))\n",
    "        # print(\"len(R_symbol): \", len(R_symbol))\n",
    "        print(f\"{target} afDuration: {afDuration}\")\n",
    "        print(f\"{target} len(Ecg_to_change): {len(Ecg_to_change)}\")\n",
    "    except:\n",
    "        pass\n",
    "    \n",
    "\n",
    "    # 创建画布和坐标轴\n",
    "    fig, ax = plt.subplots(figsize=(30, 10))\n",
    "    \n",
    "    ax = plt.subplot(211)\n",
    "    # 画出原始线条\n",
    "    ax.plot(p_signal, 'b', linewidth=2)\n",
    "    for i in range(len(Ecg_to_change)):\n",
    "        ax.plot(Ecg_to_change[i], p_signal[Ecg_to_change[i]], 'r', linewidth=2)\n",
    "\n",
    "    \n",
    "    ax = plt.subplot(212)\n",
    "    # plot画出柱状图\n",
    "    # plt.figure(figsize=(40, 10))\n",
    "    # Normalize the values  \n",
    "    norm = plt.Normalize(0, 1)\n",
    "    norm_values = norm(avgsplitNum)\n",
    "    # Choose a colormap\n",
    "    map_vir = cm.get_cmap(name='Blues')\n",
    "    # Assign colors based on values\n",
    "    colors = map_vir(norm_values)\n",
    "    # Find indices where all_seg_pro is equal to 1\n",
    "    # indices_to_change = np.where(np.array(all_seg_pro[start:end]) == 1)[0]\n",
    "    # Change the color of bars with all_seg_pro == 1 to red\n",
    "    for index in indices_to_change:\n",
    "        colors[index] = [0.7, 0, 0, 1]  # RGBA format for red\n",
    "    # Create the bar chart\n",
    "    ax.bar(range(len(avgsplitNum)), avgsplitNum, color=colors)\n",
    "    plt.ylim(0, 1)\n",
    "    # Add colorbar\n",
    "    sm = cm.ScalarMappable(cmap=map_vir, norm=norm)\n",
    "    sm.set_array([])\n",
    "    # plt.colorbar(sm)\n",
    "    plt.ylabel('Probability')\n",
    "\n",
    "    plt.tight_layout()\n",
    "    if not os.path.exists(\"DenoiseResult/ECGProChange\"):\n",
    "        os.makedirs(\"DenoiseResult/ECGProChange\")\n",
    "    plt.savefig(f\"DenoiseResult/ECGProChange/Ecg_{target}.png\")\n",
    "    plt.close()\n",
    "    "
   ]
  },
  {
   "cell_type": "markdown",
   "metadata": {},
   "source": [
    "# 增长趋势结果证明"
   ]
  },
  {
   "cell_type": "code",
   "execution_count": 6,
   "metadata": {},
   "outputs": [
    {
     "name": "stderr",
     "output_type": "stream",
     "text": [
      "d:\\Anaconda\\envs\\shap\\lib\\site-packages\\numpy\\core\\fromnumeric.py:3441: RuntimeWarning: Mean of empty slice.\n",
      "  out=out, **kwargs)\n",
      "d:\\Anaconda\\envs\\shap\\lib\\site-packages\\numpy\\core\\_methods.py:189: RuntimeWarning: invalid value encountered in double_scalars\n",
      "  ret = ret.dtype.type(ret / rcount)\n"
     ]
    },
    {
     "ename": "KeyboardInterrupt",
     "evalue": "",
     "output_type": "error",
     "traceback": [
      "\u001b[1;31m---------------------------------------------------------------------------\u001b[0m",
      "\u001b[1;31mKeyboardInterrupt\u001b[0m                         Traceback (most recent call last)",
      "\u001b[1;32m~\\AppData\\Local\\Temp\\ipykernel_19016\\2846247798.py\u001b[0m in \u001b[0;36m<module>\u001b[1;34m\u001b[0m\n\u001b[0;32m     55\u001b[0m             \u001b[1;32mcontinue\u001b[0m\u001b[1;33m\u001b[0m\u001b[1;33m\u001b[0m\u001b[0m\n\u001b[0;32m     56\u001b[0m         \u001b[0mfile_name\u001b[0m \u001b[1;33m=\u001b[0m \u001b[0mtarget\u001b[0m\u001b[1;33m\u001b[0m\u001b[1;33m\u001b[0m\u001b[0m\n\u001b[1;32m---> 57\u001b[1;33m         \u001b[0mrecord\u001b[0m \u001b[1;33m=\u001b[0m \u001b[0mwfdb\u001b[0m\u001b[1;33m.\u001b[0m\u001b[0mrdrecord\u001b[0m\u001b[1;33m(\u001b[0m\u001b[0mos\u001b[0m\u001b[1;33m.\u001b[0m\u001b[0mpath\u001b[0m\u001b[1;33m.\u001b[0m\u001b[0mjoin\u001b[0m\u001b[1;33m(\u001b[0m\u001b[0mall_data_path\u001b[0m\u001b[1;33m,\u001b[0m \u001b[0mfile_name\u001b[0m\u001b[1;33m)\u001b[0m\u001b[1;33m)\u001b[0m\u001b[1;33m\u001b[0m\u001b[1;33m\u001b[0m\u001b[0m\n\u001b[0m\u001b[0;32m     58\u001b[0m         \u001b[0msig\u001b[0m\u001b[1;33m,\u001b[0m \u001b[0mfields\u001b[0m \u001b[1;33m=\u001b[0m \u001b[0mwfdb\u001b[0m\u001b[1;33m.\u001b[0m\u001b[0mrdsamp\u001b[0m\u001b[1;33m(\u001b[0m\u001b[0mos\u001b[0m\u001b[1;33m.\u001b[0m\u001b[0mpath\u001b[0m\u001b[1;33m.\u001b[0m\u001b[0mjoin\u001b[0m\u001b[1;33m(\u001b[0m\u001b[0mall_data_path\u001b[0m\u001b[1;33m,\u001b[0m \u001b[0mfile_name\u001b[0m\u001b[1;33m)\u001b[0m\u001b[1;33m)\u001b[0m\u001b[1;33m\u001b[0m\u001b[1;33m\u001b[0m\u001b[0m\n\u001b[0;32m     59\u001b[0m         \u001b[0mlabel\u001b[0m \u001b[1;33m=\u001b[0m \u001b[0mkey_value\u001b[0m\u001b[1;33m[\u001b[0m\u001b[0mint\u001b[0m\u001b[1;33m(\u001b[0m\u001b[0mtarget\u001b[0m\u001b[1;33m.\u001b[0m\u001b[0msplit\u001b[0m\u001b[1;33m(\u001b[0m\u001b[1;34m'_'\u001b[0m\u001b[1;33m)\u001b[0m\u001b[1;33m[\u001b[0m\u001b[1;36m1\u001b[0m\u001b[1;33m]\u001b[0m\u001b[1;33m)\u001b[0m\u001b[1;33m]\u001b[0m\u001b[1;33m\u001b[0m\u001b[1;33m\u001b[0m\u001b[0m\n",
      "\u001b[1;32md:\\Anaconda\\envs\\shap\\lib\\site-packages\\wfdb\\io\\record.py\u001b[0m in \u001b[0;36mrdrecord\u001b[1;34m(record_name, sampfrom, sampto, channels, physical, pn_dir, m2s, smooth_frames, ignore_skew, return_res, force_channels, channel_names, warn_empty)\u001b[0m\n\u001b[0;32m   2027\u001b[0m         )\n\u001b[0;32m   2028\u001b[0m \u001b[1;33m\u001b[0m\u001b[0m\n\u001b[1;32m-> 2029\u001b[1;33m     \u001b[0mrecord\u001b[0m \u001b[1;33m=\u001b[0m \u001b[0mrdheader\u001b[0m\u001b[1;33m(\u001b[0m\u001b[0mrecord_name\u001b[0m\u001b[1;33m,\u001b[0m \u001b[0mpn_dir\u001b[0m\u001b[1;33m=\u001b[0m\u001b[0mpn_dir\u001b[0m\u001b[1;33m,\u001b[0m \u001b[0mrd_segments\u001b[0m\u001b[1;33m=\u001b[0m\u001b[1;32mFalse\u001b[0m\u001b[1;33m)\u001b[0m\u001b[1;33m\u001b[0m\u001b[1;33m\u001b[0m\u001b[0m\n\u001b[0m\u001b[0;32m   2030\u001b[0m \u001b[1;33m\u001b[0m\u001b[0m\n\u001b[0;32m   2031\u001b[0m     \u001b[1;31m# Set defaults for sampto and channels input variables\u001b[0m\u001b[1;33m\u001b[0m\u001b[1;33m\u001b[0m\u001b[1;33m\u001b[0m\u001b[0m\n",
      "\u001b[1;32md:\\Anaconda\\envs\\shap\\lib\\site-packages\\wfdb\\io\\record.py\u001b[0m in \u001b[0;36mrdheader\u001b[1;34m(record_name, pn_dir, rd_segments)\u001b[0m\n\u001b[0;32m   1841\u001b[0m             \u001b[1;34m\"r\"\u001b[0m\u001b[1;33m,\u001b[0m\u001b[1;33m\u001b[0m\u001b[1;33m\u001b[0m\u001b[0m\n\u001b[0;32m   1842\u001b[0m             \u001b[0mencoding\u001b[0m\u001b[1;33m=\u001b[0m\u001b[1;34m\"ascii\"\u001b[0m\u001b[1;33m,\u001b[0m\u001b[1;33m\u001b[0m\u001b[1;33m\u001b[0m\u001b[0m\n\u001b[1;32m-> 1843\u001b[1;33m             \u001b[0merrors\u001b[0m\u001b[1;33m=\u001b[0m\u001b[1;34m\"ignore\"\u001b[0m\u001b[1;33m,\u001b[0m\u001b[1;33m\u001b[0m\u001b[1;33m\u001b[0m\u001b[0m\n\u001b[0m\u001b[0;32m   1844\u001b[0m         ) as f:\n\u001b[0;32m   1845\u001b[0m             \u001b[0mheader_content\u001b[0m \u001b[1;33m=\u001b[0m \u001b[0mf\u001b[0m\u001b[1;33m.\u001b[0m\u001b[0mread\u001b[0m\u001b[1;33m(\u001b[0m\u001b[1;33m)\u001b[0m\u001b[1;33m\u001b[0m\u001b[1;33m\u001b[0m\u001b[0m\n",
      "\u001b[1;32md:\\Anaconda\\envs\\shap\\lib\\codecs.py\u001b[0m in \u001b[0;36m__init__\u001b[1;34m(self, errors)\u001b[0m\n\u001b[0;32m    258\u001b[0m     \u001b[0mremembers\u001b[0m \u001b[0mthe\u001b[0m \u001b[0mstate\u001b[0m \u001b[0mof\u001b[0m \u001b[0mthe\u001b[0m \u001b[0mdecoding\u001b[0m \u001b[0mprocess\u001b[0m \u001b[0mbetween\u001b[0m \u001b[0mcalls\u001b[0m \u001b[0mto\u001b[0m \u001b[0mdecode\u001b[0m\u001b[1;33m(\u001b[0m\u001b[1;33m)\u001b[0m\u001b[1;33m.\u001b[0m\u001b[1;33m\u001b[0m\u001b[1;33m\u001b[0m\u001b[0m\n\u001b[0;32m    259\u001b[0m     \"\"\"\n\u001b[1;32m--> 260\u001b[1;33m     \u001b[1;32mdef\u001b[0m \u001b[0m__init__\u001b[0m\u001b[1;33m(\u001b[0m\u001b[0mself\u001b[0m\u001b[1;33m,\u001b[0m \u001b[0merrors\u001b[0m\u001b[1;33m=\u001b[0m\u001b[1;34m'strict'\u001b[0m\u001b[1;33m)\u001b[0m\u001b[1;33m:\u001b[0m\u001b[1;33m\u001b[0m\u001b[1;33m\u001b[0m\u001b[0m\n\u001b[0m\u001b[0;32m    261\u001b[0m         \"\"\"\n\u001b[0;32m    262\u001b[0m         \u001b[0mCreate\u001b[0m \u001b[0man\u001b[0m \u001b[0mIncrementalDecoder\u001b[0m \u001b[0minstance\u001b[0m\u001b[1;33m.\u001b[0m\u001b[1;33m\u001b[0m\u001b[1;33m\u001b[0m\u001b[0m\n",
      "\u001b[1;31mKeyboardInterrupt\u001b[0m: "
     ]
    }
   ],
   "source": [
    "def afDurationCreate(aux, afDuration):\n",
    "    seg = []\n",
    "    for i in range(len(aux)):\n",
    "        if aux[i] == '(AFIB' or aux[i] == 'AFL':\n",
    "            if len(seg) == 0:\n",
    "                seg.append(i)\n",
    "            else:\n",
    "                continue\n",
    "        elif aux[i] == '(N':\n",
    "            if len(seg) != 0:\n",
    "                seg.append(i)\n",
    "            else:\n",
    "                seg.append(i)\n",
    "                seg.append(i)\n",
    "            # seg.append(i)\n",
    "        if i == len(aux) - 1 and len(seg) == 1:\n",
    "            seg.append(i)\n",
    "        if len(seg) == 2:\n",
    "            afDuration.append(seg)\n",
    "            seg = []\n",
    "    if len(afDuration) == 0:\n",
    "        afDuration.append([0, 0])\n",
    "def checkInAf(x, afDuration):\n",
    "    # print(afDuration)\n",
    "    try:\n",
    "        for temp in afDuration:\n",
    "            s, e = temp[0], temp[1]\n",
    "            if x >= s and x < e:\n",
    "                return True\n",
    "        return False\n",
    "    except:\n",
    "        print(afDuration)\n",
    "        print(x)\n",
    "\n",
    "# targets = ['data_40_1'] # 阵发性房颤:40_1, 31_1, 31_2, 31_6, 31_7, 31_10\\11\\12\\13\\14, 39也是\n",
    "# targets = [f\"data_31_{i}\" for i in [1, 2, 6, 7, 10, 11, 12, 13, 14]]\n",
    "testSet1 = [16, 62, 12, 22, 71, 85, 53, 69, 26, 70, 5, 40, 41, 55, 47, 36, 78, 89, 45, 8, 79]\n",
    "testSet2 = [17, 31, 100, 93, 102, 95, 84, 86, 18, 11, 48, 97, 88, 83, 104, 30, 29, 75, 4, 77, 37]\n",
    "testSet3 = [43, 1, 49, 72, 25, 73, 44, 76, 7, 66, 32, 46, 42, 21, 14, 63, 94, 87, 33, 19, 74]\n",
    "testSet4 = [67, 15, 61, 96, 24, 9, 59, 91, 6, 0, 65, 81, 10, 20, 82, 99, 92, 35, 101, 27, 52]\n",
    "testSet5 = [103, 50, 64, 28, 68, 80, 90, 51, 98, 39, 3, 56, 58, 60, 54, 34, 38, 23, 13, 2, 57]\n",
    "\n",
    "# len(hf_keys): 1435\n",
    "# targets = [f\"data_39_{i}\" for i in range(1, 23)]\n",
    "# targets = ['data_88_4']\n",
    "testSets = [testSet1, testSet2, testSet3, testSet4, testSet5]\n",
    "for testSet in testSets:\n",
    "    avg_labels = []\n",
    "    avg_pro = []\n",
    "    # 趋势证明\n",
    "    trendLabel = []\n",
    "    trendPredict = []\n",
    "    for target in hf_keys:\n",
    "        if int(target.split('_')[1]) not in testSet:\n",
    "            continue\n",
    "        file_name = target\n",
    "        record = wfdb.rdrecord(os.path.join(all_data_path, file_name))\n",
    "        sig, fields = wfdb.rdsamp(os.path.join(all_data_path, file_name))\n",
    "        label = key_value[int(target.split('_')[1])]\n",
    "        # if label == 0:\n",
    "        #     continue\n",
    "\n",
    "        annotation = wfdb.rdann(os.path.join(all_data_path, file_name), 'atr')\n",
    "        R_location = annotation.sample\n",
    "        R_symbol = annotation.symbol\n",
    "        aux = annotation.aux_note\n",
    "        p_signal = record.p_signal[:, 0]\n",
    "        p_signal = p_signal.flatten()\n",
    "        # print(\"R_symbol: \", R_symbol)\n",
    "\n",
    "        # 滤波操作\n",
    "        sfreq = 200\n",
    "        low_freq = 0.5\n",
    "        high_freq = 50.0\n",
    "        p_signal = filter_data(p_signal, sfreq, low_freq, high_freq, method='iir', verbose=False)\n",
    "\n",
    "        # 获得概率值\n",
    "        seg_data = data[target]\n",
    "        # print(seg_data.shape)\n",
    "        seg_pro = []\n",
    "        for i in range(len(seg_data)):\n",
    "            seg_pro.append(round(seg_data[i][-2], 2))\n",
    "        \n",
    "        # AF_location = []\n",
    "        # for i in range(len(R_symbol))[10:-5]:\n",
    "        #     if R_symbol[i] != 'N':\n",
    "        #         AF_location.append(i+1)\n",
    "        \n",
    "        afDuration = []\n",
    "        afDurationCreate(aux, afDuration)\n",
    "\n",
    "        # 概率变化情况，因只统计了N，所以要将我们的start和end转换为N的start和end\n",
    "        all_seg_pro = [0 for i in range(10)]\n",
    "        index = 0\n",
    "        for i in range(len(R_symbol))[10:-5]:\n",
    "            if R_symbol[i] == 'N':\n",
    "                all_seg_pro.append(seg_pro[index])\n",
    "                index += 1\n",
    "            else:\n",
    "                all_seg_pro.append(1)\n",
    "        # print(\"index: \", index)\n",
    "        \n",
    "        #  splitNum个beat分桶\n",
    "        # tonNum = 20\n",
    "        # splitNum = len(R_symbol) // tonNum\n",
    "        splitNum = 20\n",
    "        if splitNum == 0:\n",
    "            splitNum = 1\n",
    "        areasplitNum = [[] for i in range(len(R_symbol) // splitNum + 1)]\n",
    "        index = 0\n",
    "        for i in range(len(R_symbol))[10:-5]:\n",
    "            if R_symbol[i] == 'N':\n",
    "                areasplitNum[i // splitNum].append(seg_pro[index])\n",
    "                index += 1\n",
    "        # print(\"len(areasplitNum):\", len(areasplitNum))\n",
    "        \n",
    "        temporal = []\n",
    "        avgsplitNum = []\n",
    "        for i in range(len(areasplitNum)):\n",
    "            # avgsplitNum.append(np.mean(areasplitNum[i]))\n",
    "            if not np.isnan(np.mean(areasplitNum[i])):\n",
    "                # avg_labels.append(label)\n",
    "                # avg_pro.append(np.mean(areasplitNum[i]))\n",
    "                temporal.append(np.mean(areasplitNum[i]))\n",
    "                # print(\"np.mean(areasplitNum[i]): \", np.mean(areasplitNum[i]))\n",
    "        # print(\"len(avgsplitNum): \", len(avgsplitNum))\n",
    "        # print(\"avgsplitNum: \", avgsplitNum)\n",
    "\n",
    "\n",
    "        # 趋势证明\n",
    "        trendNum = 3\n",
    "        for i in range(len(temporal) - trendNum):\n",
    "            temp1 = temporal[i]\n",
    "            temp2 = temporal[i+1]\n",
    "            temp3 = temporal[i+2]\n",
    "            if temp1 <= temp2 and temp2 <= temp3 and temp3 >= 0.5:\n",
    "                trendPredict.append(1)\n",
    "            elif temp3 >= temp1 and temp3 >= temp2 and temp3 >= 0.5:\n",
    "                trendPredict.append(1)\n",
    "            elif temp1 <= temp2 and temp3 <= temp2 and temp2 >= 0.5 and temp3 >= temp1:\n",
    "                trendPredict.append(1)\n",
    "            else:\n",
    "                trendPredict.append(0)\n",
    "            trendLabel.append(label)\n",
    "\n",
    "    \n",
    "\n",
    "    all_labels = np.array(trendLabel)\n",
    "    binary_predictions = np.array(trendPredict)\n",
    "\n",
    "    # all_probabilities = np.array(avg_pro)\n",
    "    # binary_predictions = [1 if prob >= 0.5 else 0 for prob in all_probabilities]\n",
    "    # print(\"name: \", name)\n",
    "    # print(\"real label 1 num, 0 num: \", label.count(1), \" \", label.count(0))\n",
    "    # print(\"predict 1 num, 0 num: \", binary_predictions.count(1), \" \", binary_predictions.count(0))\n",
    "\n",
    "    acc = accuracy_score(all_labels, binary_predictions)\n",
    "    recall = recall_score(all_labels, binary_predictions)\n",
    "    precision = precision_score(all_labels, binary_predictions)\n",
    "    f1 = f1_score(all_labels, binary_predictions)\n",
    "    # auc = roc_auc_score(all_labels, all_probabilities)\n",
    "\n",
    "    # 计算ROC曲线\n",
    "    # fpr, tpr, _ = roc_curve(all_labels, all_probabilities)\n",
    "    # roc_auc = auc(fpr, tpr)\n",
    "    \n",
    "    # 绘制ROC曲线\n",
    "    # plt.figure()\n",
    "    # plt.plot(fpr, tpr, color='darkorange', lw=2, label='ROC curve (area = %0.2f)' % roc_auc)\n",
    "    # plt.plot([0, 1], [0, 1], color='navy', lw=2, linestyle='--')\n",
    "    # plt.xlim([0.0, 1.0])\n",
    "    # plt.ylim([0.0, 1.05])\n",
    "    # plt.xlabel('False Positive Rate')\n",
    "    # plt.ylabel('True Positive Rate')\n",
    "    # plt.title('Receiver Operating Characteristic')\n",
    "    # plt.legend(loc=\"lower right\")\n",
    "\n",
    "    # print(\"roc_auc_score:\", roc_auc_score(all_labels, all_probabilities))\n",
    "    # print(\"recall_score:\", recall_score(all_labels, np.round(all_probabilities)))\n",
    "    # print(\"precision_score:\", precision_score(all_labels, np.round(all_probabilities)))\n",
    "    # print(\"f1_score:\", f1_score(all_labels, np.round(all_probabilities)))\n",
    "    # print(\"confusion_matrix:\\n\", confusion_matrix(all_labels, np.round(all_probabilities)))\n",
    "    # if not os.path.exists(\"./DenoiseResult/trendInterpreter\"):\n",
    "    #     os.makedirs(\"./DenoiseResult/trendInterpreter\")\n",
    "    # plt.tight_layout()\n",
    "    # plt.savefig(f\"./DenoiseResult/trendInterpreter/roc_auc{testSet[0]}.png\")\n",
    "\n",
    "    # 将结果写入CSV文件\n",
    "    if not os.path.exists(\"./DenoiseResult/trendInterpreter\"):\n",
    "        os.makedirs(\"./DenoiseResult/trendInterpreter\")\n",
    "    with open(f'./DenoiseResult/trendInterpreter/splitNumAvg{splitNum}.csv', mode='a', newline='') as csvfile:\n",
    "        writer = csv.writer(csvfile)\n",
    "        # 如果文件不存在，写入表头\n",
    "        if csvfile.tell() == 0:\n",
    "            writer.writerow(['Index', 'Accuracy', 'Recall', 'Precision', 'F1', \n",
    "                            # 'AUC', \n",
    "                            'Num'])\n",
    "        writer.writerow([testSet[0],\n",
    "                        round(acc*100, 2), \n",
    "                        round(recall*100, 2), \n",
    "                        round(precision*100, 2), \n",
    "                        round(f1*100, 2), \n",
    "                        # round(auc*100, 2), \n",
    "                        len(all_labels)])\n",
    "# 求平均值\n",
    "folderPath = f\"./DenoiseResult/trendInterpreter/splitNumAvg{splitNum}.csv\"\n",
    "df = pd.read_csv(folderPath)\n",
    "avgValues = df.mean()\n",
    "avgDf = pd.DataFrame({\"Index\": [\"Avg\"],\n",
    "                        \"Accuracy\": [round(avgValues[\"Accuracy\"], 2)],\n",
    "                        \"Recall\": [round(avgValues['Recall'], 2)],\n",
    "                        \"Precision\": [round(avgValues['Precision'], 2)],\n",
    "                        \"F1\": [round(avgValues[\"F1\"], 2)],\n",
    "                        # \"AUC\": [round(avgValues[\"AUC\"], 2)],\n",
    "                        \"Num\": [round(avgValues[\"Num\"], 2)]})\n",
    "resultDf = pd.concat([df, avgDf], ignore_index=True)\n",
    "resultDf.to_csv(folderPath, index=False)"
   ]
  },
  {
   "cell_type": "markdown",
   "metadata": {},
   "source": [
    "# ECG Check"
   ]
  },
  {
   "cell_type": "code",
   "execution_count": 9,
   "metadata": {},
   "outputs": [
    {
     "name": "stdout",
     "output_type": "stream",
     "text": [
      "Counter({'': 1156, '(AFIB': 3, '(N': 3})\n"
     ]
    },
    {
     "ename": "AttributeError",
     "evalue": "'list' object has no attribute 'find'",
     "output_type": "error",
     "traceback": [
      "\u001b[1;31m---------------------------------------------------------------------------\u001b[0m",
      "\u001b[1;31mAttributeError\u001b[0m                            Traceback (most recent call last)",
      "\u001b[1;32m~\\AppData\\Local\\Temp\\ipykernel_21144\\1526373040.py\u001b[0m in \u001b[0;36m<module>\u001b[1;34m\u001b[0m\n\u001b[0;32m     28\u001b[0m         \u001b[0mseg_pro\u001b[0m\u001b[1;33m.\u001b[0m\u001b[0mappend\u001b[0m\u001b[1;33m(\u001b[0m\u001b[0mround\u001b[0m\u001b[1;33m(\u001b[0m\u001b[0mseg_data\u001b[0m\u001b[1;33m[\u001b[0m\u001b[0mi\u001b[0m\u001b[1;33m]\u001b[0m\u001b[1;33m[\u001b[0m\u001b[1;33m-\u001b[0m\u001b[1;36m2\u001b[0m\u001b[1;33m]\u001b[0m\u001b[1;33m,\u001b[0m \u001b[1;36m2\u001b[0m\u001b[1;33m)\u001b[0m\u001b[1;33m)\u001b[0m\u001b[1;33m\u001b[0m\u001b[1;33m\u001b[0m\u001b[0m\n\u001b[0;32m     29\u001b[0m     \u001b[0mprint\u001b[0m\u001b[1;33m(\u001b[0m\u001b[0mCounter\u001b[0m\u001b[1;33m(\u001b[0m\u001b[0maux\u001b[0m\u001b[1;33m)\u001b[0m\u001b[1;33m)\u001b[0m\u001b[1;33m\u001b[0m\u001b[1;33m\u001b[0m\u001b[0m\n\u001b[1;32m---> 30\u001b[1;33m     \u001b[0mprint\u001b[0m\u001b[1;33m(\u001b[0m\u001b[1;34m\"(AFIB.location: \"\u001b[0m\u001b[1;33m,\u001b[0m \u001b[0maux\u001b[0m\u001b[1;33m.\u001b[0m\u001b[0mfind\u001b[0m\u001b[1;33m(\u001b[0m\u001b[1;34m'(AFIB'\u001b[0m\u001b[1;33m)\u001b[0m\u001b[1;33m)\u001b[0m\u001b[1;33m\u001b[0m\u001b[1;33m\u001b[0m\u001b[0m\n\u001b[0m\u001b[0;32m     31\u001b[0m     \u001b[0mprint\u001b[0m\u001b[1;33m(\u001b[0m\u001b[1;34m\"(N.location: \"\u001b[0m\u001b[1;33m,\u001b[0m \u001b[0maux\u001b[0m\u001b[1;33m.\u001b[0m\u001b[0mindex\u001b[0m\u001b[1;33m(\u001b[0m\u001b[1;34m'(N'\u001b[0m\u001b[1;33m)\u001b[0m\u001b[1;33m)\u001b[0m\u001b[1;33m\u001b[0m\u001b[1;33m\u001b[0m\u001b[0m\n",
      "\u001b[1;31mAttributeError\u001b[0m: 'list' object has no attribute 'find'"
     ]
    }
   ],
   "source": [
    "from collections import Counter\n",
    "targets = ['data_48_6'] # 阵发性房颤\n",
    "for target in targets:\n",
    "    file_name = target\n",
    "    record = wfdb.rdrecord(os.path.join(all_data_path, file_name))\n",
    "    sig, fields = wfdb.rdsamp(os.path.join(all_data_path, file_name))\n",
    "    label = key_value[int(target.split('_')[1])]\n",
    "\n",
    "    annotation = wfdb.rdann(os.path.join(all_data_path, file_name), 'atr')\n",
    "    R_location = annotation.sample\n",
    "    R_symbol = annotation.symbol\n",
    "    aux = annotation.aux_note\n",
    "    \n",
    "    p_signal = record.p_signal[:, 0]\n",
    "    p_signal = p_signal.flatten()\n",
    "\n",
    "    # 滤波操作\n",
    "    sfreq = 200\n",
    "    low_freq = 0.5\n",
    "    high_freq = 50.0\n",
    "    p_signal = filter_data(p_signal, sfreq, low_freq, high_freq, method='iir', verbose=False)\n",
    "\n",
    "    # 获得概率值\n",
    "    seg_data = data[target]\n",
    "    # print(seg_data.shape)\n",
    "    seg_pro = []\n",
    "    for i in range(len(seg_data)):\n",
    "        seg_pro.append(round(seg_data[i][-2], 2))\n",
    "    print(Counter(aux))\n",
    "    print(\"(AFIB.location: \", aux('(AFIB'))\n",
    "    print(\"(N.location: \", aux.index('(N'))\n"
   ]
  }
 ],
 "metadata": {
  "kernelspec": {
   "display_name": "shap",
   "language": "python",
   "name": "python3"
  },
  "language_info": {
   "codemirror_mode": {
    "name": "ipython",
    "version": 3
   },
   "file_extension": ".py",
   "mimetype": "text/x-python",
   "name": "python",
   "nbconvert_exporter": "python",
   "pygments_lexer": "ipython3",
   "version": "3.7.16"
  }
 },
 "nbformat": 4,
 "nbformat_minor": 2
}
